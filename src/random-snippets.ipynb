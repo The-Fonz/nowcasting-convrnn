{
 "cells": [
  {
   "cell_type": "code",
   "execution_count": null,
   "metadata": {},
   "outputs": [],
   "source": [
    "## Let's play around a bit, get comfortable with ftp\n",
    "\n",
    "# Note: This is not the data server! Stumbled upon this by accident\n",
    "with FTP('ftp.knmi.nl') as ftp:\n",
    "    # '230 login successful'\n",
    "    print(ftp.login())\n",
    "    # This dir contains some public weather reports\n",
    "    pub_weerberichten = ftp.nlst('/pub_weerberichten')\n",
    "\n",
    "    # print(pub_weerberichten)\n",
    "    pub_weerberichten_exts = set((p.split('.')[-1] for p in pub_weerberichten))\n",
    "    print(\"Found files with these extensions:\", pub_weerberichten_exts)\n",
    "\n",
    "    # Filter common image files\n",
    "    imgs = list(filter(lambda s:\n",
    "                       s.lower()[-3:] in {'gif', 'png', 'svg'},\n",
    "                       pub_weerberichten))\n",
    "\n",
    "    # Retrieve a random image\n",
    "    rand_i = random.randint(0, len(imgs)-1)\n",
    "    # io buffer so we don't have to save to disk\n",
    "    temp_img_buf = io.BytesIO()\n",
    "    # '226 File send OK'\n",
    "    print(ftp.retrbinary('RETR {}'.format(imgs[rand_i]), temp_img_buf.write))\n",
    "\n",
    "b = temp_img_buf.getvalue()\n",
    "print(\"Retrieved random image of {:.2f}kB\".format(len(b)/1E3))\n",
    "# Show image\n",
    "Image(b)"
   ]
  }
 ],
 "metadata": {
  "kernelspec": {
   "display_name": "Python 3",
   "language": "python",
   "name": "python3"
  },
  "language_info": {
   "codemirror_mode": {
    "name": "ipython",
    "version": 3
   },
   "file_extension": ".py",
   "mimetype": "text/x-python",
   "name": "python",
   "nbconvert_exporter": "python",
   "pygments_lexer": "ipython3",
   "version": "3.6.3"
  }
 },
 "nbformat": 4,
 "nbformat_minor": 2
}
