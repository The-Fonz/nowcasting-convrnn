{
 "cells": [
  {
   "cell_type": "markdown",
   "metadata": {},
   "source": [
    "# Training on precipitation data\n",
    "\n",
    "We've trained on the ball dataset, and while the seq2seq convlstm model is not perfect yet, let's set it up on the precipitation data. When it works we need to put it in its own file and be able to run it as a module for easier testing."
   ]
  },
  {
   "cell_type": "code",
   "execution_count": 1,
   "metadata": {},
   "outputs": [],
   "source": [
    "import matplotlib.pyplot as plt\n",
    "%matplotlib inline\n",
    "\n",
    "import utils\n",
    "from dataset import ReflCompDataset"
   ]
  },
  {
   "cell_type": "code",
   "execution_count": 2,
   "metadata": {},
   "outputs": [],
   "source": [
    "ds = ReflCompDataset(utils.RADAR_REFL_COMP_DIR)"
   ]
  },
  {
   "cell_type": "markdown",
   "metadata": {},
   "source": [
    "Let's try out the transforms."
   ]
  },
  {
   "cell_type": "code",
   "execution_count": null,
   "metadata": {},
   "outputs": [],
   "source": [
    "imgs = []\n",
    "for i in range(10):\n",
    "    im = ds[i]\n",
    "    im = utils.transforms.Slice(250, 550, 200, 500)(im)\n",
    "    im = utils.transforms.Resize(100,100)(im)\n",
    "#     im = utils.transforms.Clip(100)(im)\n",
    "#     im = utils.metrics.pixelval_to_mmh(im)\n",
    "    imgs.append(im)\n",
    "# plt.figure(figsize=(8,8))\n",
    "# plt.imshow(im);\n",
    "utils.plotting.plot_synthetic(imgs, interval=300, figsize=(8,8))"
   ]
  }
 ],
 "metadata": {
  "kernelspec": {
   "display_name": "Python [conda env:main]",
   "language": "python",
   "name": "conda-env-main-py"
  },
  "language_info": {
   "codemirror_mode": {
    "name": "ipython",
    "version": 3
   },
   "file_extension": ".py",
   "mimetype": "text/x-python",
   "name": "python",
   "nbconvert_exporter": "python",
   "pygments_lexer": "ipython3",
   "version": "3.6.3"
  }
 },
 "nbformat": 4,
 "nbformat_minor": 2
}
