{
 "cells": [
  {
   "cell_type": "markdown",
   "metadata": {},
   "source": [
    "# Build convrnn\n",
    "\n",
    "So we've downloaded the dataset and analyzed and visualized it. We're ready now for the next step: building the convrnn.\n",
    "\n",
    "We first test it with a synthetic dataset: a ball that bounces."
   ]
  },
  {
   "cell_type": "code",
   "execution_count": 1,
   "metadata": {
    "scrolled": true
   },
   "outputs": [
    {
     "name": "stderr",
     "output_type": "stream",
     "text": [
      "/home/ubuntu/nowcasting-convrnn/src/utils/plotting.py:5: UserWarning: \n",
      "This call to matplotlib.use() has no effect because the backend has already\n",
      "been chosen; matplotlib.use() must be called *before* pylab, matplotlib.pyplot,\n",
      "or matplotlib.backends is imported for the first time.\n",
      "\n",
      "The backend was *originally* set to 'module://ipykernel.pylab.backend_inline' by the following code:\n",
      "  File \"/home/ubuntu/src/anaconda3/envs/main/lib/python3.6/runpy.py\", line 193, in _run_module_as_main\n",
      "    \"__main__\", mod_spec)\n",
      "  File \"/home/ubuntu/src/anaconda3/envs/main/lib/python3.6/runpy.py\", line 85, in _run_code\n",
      "    exec(code, run_globals)\n",
      "  File \"/home/ubuntu/src/anaconda3/envs/main/lib/python3.6/site-packages/ipykernel/__main__.py\", line 3, in <module>\n",
      "    app.launch_new_instance()\n",
      "  File \"/home/ubuntu/src/anaconda3/envs/main/lib/python3.6/site-packages/traitlets/config/application.py\", line 658, in launch_instance\n",
      "    app.start()\n",
      "  File \"/home/ubuntu/src/anaconda3/envs/main/lib/python3.6/site-packages/ipykernel/kernelapp.py\", line 477, in start\n",
      "    ioloop.IOLoop.instance().start()\n",
      "  File \"/home/ubuntu/src/anaconda3/envs/main/lib/python3.6/site-packages/zmq/eventloop/ioloop.py\", line 177, in start\n",
      "    super(ZMQIOLoop, self).start()\n",
      "  File \"/home/ubuntu/src/anaconda3/envs/main/lib/python3.6/site-packages/tornado/ioloop.py\", line 888, in start\n",
      "    handler_func(fd_obj, events)\n",
      "  File \"/home/ubuntu/src/anaconda3/envs/main/lib/python3.6/site-packages/tornado/stack_context.py\", line 277, in null_wrapper\n",
      "    return fn(*args, **kwargs)\n",
      "  File \"/home/ubuntu/src/anaconda3/envs/main/lib/python3.6/site-packages/zmq/eventloop/zmqstream.py\", line 440, in _handle_events\n",
      "    self._handle_recv()\n",
      "  File \"/home/ubuntu/src/anaconda3/envs/main/lib/python3.6/site-packages/zmq/eventloop/zmqstream.py\", line 472, in _handle_recv\n",
      "    self._run_callback(callback, msg)\n",
      "  File \"/home/ubuntu/src/anaconda3/envs/main/lib/python3.6/site-packages/zmq/eventloop/zmqstream.py\", line 414, in _run_callback\n",
      "    callback(*args, **kwargs)\n",
      "  File \"/home/ubuntu/src/anaconda3/envs/main/lib/python3.6/site-packages/tornado/stack_context.py\", line 277, in null_wrapper\n",
      "    return fn(*args, **kwargs)\n",
      "  File \"/home/ubuntu/src/anaconda3/envs/main/lib/python3.6/site-packages/ipykernel/kernelbase.py\", line 283, in dispatcher\n",
      "    return self.dispatch_shell(stream, msg)\n",
      "  File \"/home/ubuntu/src/anaconda3/envs/main/lib/python3.6/site-packages/ipykernel/kernelbase.py\", line 235, in dispatch_shell\n",
      "    handler(stream, idents, msg)\n",
      "  File \"/home/ubuntu/src/anaconda3/envs/main/lib/python3.6/site-packages/ipykernel/kernelbase.py\", line 399, in execute_request\n",
      "    user_expressions, allow_stdin)\n",
      "  File \"/home/ubuntu/src/anaconda3/envs/main/lib/python3.6/site-packages/ipykernel/ipkernel.py\", line 196, in do_execute\n",
      "    res = shell.run_cell(code, store_history=store_history, silent=silent)\n",
      "  File \"/home/ubuntu/src/anaconda3/envs/main/lib/python3.6/site-packages/ipykernel/zmqshell.py\", line 533, in run_cell\n",
      "    return super(ZMQInteractiveShell, self).run_cell(*args, **kwargs)\n",
      "  File \"/home/ubuntu/src/anaconda3/envs/main/lib/python3.6/site-packages/IPython/core/interactiveshell.py\", line 2728, in run_cell\n",
      "    interactivity=interactivity, compiler=compiler, result=result)\n",
      "  File \"/home/ubuntu/src/anaconda3/envs/main/lib/python3.6/site-packages/IPython/core/interactiveshell.py\", line 2850, in run_ast_nodes\n",
      "    if self.run_code(code, result):\n",
      "  File \"/home/ubuntu/src/anaconda3/envs/main/lib/python3.6/site-packages/IPython/core/interactiveshell.py\", line 2910, in run_code\n",
      "    exec(code_obj, self.user_global_ns, self.user_ns)\n",
      "  File \"<ipython-input-1-dbfc80996810>\", line 7, in <module>\n",
      "    import matplotlib.pyplot as plt\n",
      "  File \"/home/ubuntu/src/anaconda3/envs/main/lib/python3.6/site-packages/matplotlib/pyplot.py\", line 69, in <module>\n",
      "    from matplotlib.backends import pylab_setup\n",
      "  File \"/home/ubuntu/src/anaconda3/envs/main/lib/python3.6/site-packages/matplotlib/backends/__init__.py\", line 14, in <module>\n",
      "    line for line in traceback.format_stack()\n",
      "\n",
      "\n",
      "  mpl.use('Agg')\n"
     ]
    }
   ],
   "source": [
    "#!conda install pytorch torchvision -c pytorch\n",
    "#!conda install scikit-image\n",
    "\n",
    "from time import time\n",
    "\n",
    "import numpy as np\n",
    "import matplotlib.pyplot as plt\n",
    "import torch\n",
    "from torch.autograd.variable import Variable\n",
    "\n",
    "from convlstm_pytorch import ConvLSTM, ConvLSTMCell\n",
    "from synthetic_datasets import Ball\n",
    "import utils\n",
    "from train import train\n",
    "\n",
    "# Give init parameters here\n",
    "# b = Ball()\n",
    "# Calling an instance of Ball generates a batch of images\n",
    "# utils.plotting.plot_synthetic(b(sequence_length=100)[0])"
   ]
  },
  {
   "cell_type": "markdown",
   "metadata": {},
   "source": [
    "I don't know how the lstm functions with its output range. Let's do some experiments to find out."
   ]
  },
  {
   "cell_type": "code",
   "execution_count": 2,
   "metadata": {
    "scrolled": true
   },
   "outputs": [
    {
     "name": "stdout",
     "output_type": "stream",
     "text": [
      "Range   0.0000  0.0049\n"
     ]
    },
    {
     "data": {
      "text/html": [
       "<video width=\"432\" height=\"288\" controls autoplay loop>\n",
       "  <source type=\"video/mp4\" src=\"data:video/mp4;base64,AAAAHGZ0eXBNNFYgAAACAGlzb21pc28yYXZjMQAAAAhmcmVlAAAH0G1kYXQAAAKuBgX//6rcRem9\n",
       "5tlIt5Ys2CDZI+7veDI2NCAtIGNvcmUgMTQ4IHIyNjQzIDVjNjU3MDQgLSBILjI2NC9NUEVHLTQg\n",
       "QVZDIGNvZGVjIC0gQ29weWxlZnQgMjAwMy0yMDE1IC0gaHR0cDovL3d3dy52aWRlb2xhbi5vcmcv\n",
       "eDI2NC5odG1sIC0gb3B0aW9uczogY2FiYWM9MSByZWY9MyBkZWJsb2NrPTE6MDowIGFuYWx5c2U9\n",
       "MHgzOjB4MTEzIG1lPWhleCBzdWJtZT03IHBzeT0xIHBzeV9yZD0xLjAwOjAuMDAgbWl4ZWRfcmVm\n",
       "PTEgbWVfcmFuZ2U9MTYgY2hyb21hX21lPTEgdHJlbGxpcz0xIDh4OGRjdD0xIGNxbT0wIGRlYWR6\n",
       "b25lPTIxLDExIGZhc3RfcHNraXA9MSBjaHJvbWFfcXBfb2Zmc2V0PS0yIHRocmVhZHM9NiBsb29r\n",
       "YWhlYWRfdGhyZWFkcz0xIHNsaWNlZF90aHJlYWRzPTAgbnI9MCBkZWNpbWF0ZT0xIGludGVybGFj\n",
       "ZWQ9MCBibHVyYXlfY29tcGF0PTAgY29uc3RyYWluZWRfaW50cmE9MCBiZnJhbWVzPTMgYl9weXJh\n",
       "bWlkPTIgYl9hZGFwdD0xIGJfYmlhcz0wIGRpcmVjdD0xIHdlaWdodGI9MSBvcGVuX2dvcD0wIHdl\n",
       "aWdodHA9MiBrZXlpbnQ9MjUwIGtleWludF9taW49MTAgc2NlbmVjdXQ9NDAgaW50cmFfcmVmcmVz\n",
       "aD0wIHJjX2xvb2thaGVhZD00MCByYz1jcmYgbWJ0cmVlPTEgY3JmPTIzLjAgcWNvbXA9MC42MCBx\n",
       "cG1pbj0wIHFwbWF4PTY5IHFwc3RlcD00IGlwX3JhdGlvPTEuNDAgYXE9MToxLjAwAIAAAAUSZYiE\n",
       "ADf//vbw/gU2O5jQlxHN6J0zH78VuLo0N73OAAADAAA33OZE/sqTBubAAALhJ0+R0TzHEAJagf1o\n",
       "l9CJoKE6eDfg/1/5BSPk/EMOfn91uz5TKPXjkwTTtaMpvjgmVHtGi5V3i7fKUE6qHepAdPktxfEo\n",
       "lkPpWcKRH4DBD6tksX+l9DKQSAW6tHhmPltCPXi/JggHxwIhs2wio+4KqM2Rs/0691v3At5Iyo3E\n",
       "CvWT02KpBlsmLjyHPHR7kB7tiJF1PYG9A0bmP/tetROJ186/0Ns8ohY9d1kEV7P+I1g9OaJ7HGyT\n",
       "1NzMOmYvH42IT4tZlYZsojGP5XGgCbhcsUn3OGyYSFo/j22E6ztfa/4UgM0tFodbI5e1SIf+3E8X\n",
       "iu8XF2FWmREWTNnb06IgcSeMmTNVR8iMKG1dTbW7YIg0XVpqhvTYYL/YNrOohnPl2Mh70V0mZltV\n",
       "dMDKgP02OyR4nLwiU7WTJoimnoF18QAEunK56lvfCrPQJlaXkyrQXPVbcBYnLp9+bBFD11s1et0Q\n",
       "Bhh3W2OOXMyUydpTG9YOT//5X8SoweofAWm7j0YT0kWxmT4K6FpkSWxN/VSjsvdc76l1yXk2jqMk\n",
       "BtAaI48NVpo3PHgwe3REeDwwFRZk4aGCDTCa3gUAeSoPODGBuq1IAWr/eyKpLebP0l5rUBxYzAO0\n",
       "yeERG5RUaG76JbbBxQxAQkFXPkqtMj0dQ1qj4bpzRn7pmyKJ8veMf/ukvxkraDm07QigT9TvSu+U\n",
       "xpswt1rRrdfL7EpM9mr7XH2mSFMm1X2LlGdPaLjStJlK67bh9SNRyimCdefrxKQZbJeLC3BWTsXE\n",
       "aPhl3EIQiA1Hl3OywQTbyD2Q53/Fl9eB2hTZaiguf33IMdp5Ba8W++NFfWaa31KkN9qntclmMICq\n",
       "mGy7QcRnCfYm2OB4AWNHYWx2NF8ANUBNj1TbO3O3lDA+qc+61QD5bGQa2astAMYR28JwggjDyRRB\n",
       "VlUScAAAXgHC9I0vRjc3/KzNMtvAZBEDQNxPn91rQ4fhpbBk34jkOHx/hXBDNi+VbDigY3l/ot1O\n",
       "SSgL4zZPBsha3jKuvvcRGSXq3jWAanhOA8AOXHqGmHXC/yQ9H2err06Bwnd4U3Lt7xSxxQv/vYvl\n",
       "i/ZzEj08nvJIhvDxCALKueQtoC3V0h0ElAgr+dsCIMIEXsrSHUMH1+utPTf/HUsSs6ZhGDvlPDaS\n",
       "Kt4rQCHApL7odu5b12y+tLQ8ClpUtXbMAxMcvPG/XvLAaz3apUuQX30Q6sY1YsY8vs5wUeX567PY\n",
       "o8F2g/xwUmqBqfhVV7raenO6EpT8nn9D0GpDo4IeIsF49JjbGx9sPC5TPlicvXgAAJ/22oPkIfSv\n",
       "0h3JW3M7NE+xWTd1GNHfi5nF9ozWrgYwcv6zvi1ggEl5f1g4gaMzyoL1qx+tQf3Fk43uhpWSY6yh\n",
       "IdlQQdtBGoc8NDkZJ8PUOHOkZKV0EDHHWGakmC0IuDglDqCiSsDDzMrDuiLbhfgQfQgKvXwXUYd2\n",
       "+2Jawd114dOSJXBSYI6BAI0qCluhc1CRBhtVa2RJ3N/E4HJEkap51PS5v/0afM8CtqORI3HxmIY0\n",
       "k443FWjFWO6RsTzoVGC21smpTB/DuVl4/kK/CQFqj7/9Tw5EIV8cjzIvRteEhygi+JyPZPBL4rdt\n",
       "urnGajX5r2mYl8nim5frLhSQwX/UGKt7FKwN8FaugAAcP83bVAAALmEAAAMKbW9vdgAAAGxtdmhk\n",
       "AAAAAAAAAAAAAAAAAAAD6AAAAGQAAQAAAQAAAAAAAAAAAAAAAAEAAAAAAAAAAAAAAAAAAAABAAAA\n",
       "AAAAAAAAAAAAAABAAAAAAAAAAAAAAAAAAAAAAAAAAAAAAAAAAAAAAAAAAgAAAjR0cmFrAAAAXHRr\n",
       "aGQAAAADAAAAAAAAAAAAAAABAAAAAAAAAGQAAAAAAAAAAAAAAAAAAAAAAAEAAAAAAAAAAAAAAAAA\n",
       "AAABAAAAAAAAAAAAAAAAAABAAAAAAbAAAAEgAAAAAAAkZWR0cwAAABxlbHN0AAAAAAAAAAEAAABk\n",
       "AAAAAAABAAAAAAGsbWRpYQAAACBtZGhkAAAAAAAAAAAAAAAAAAAoAAAABABVxAAAAAAALWhkbHIA\n",
       "AAAAAAAAAHZpZGUAAAAAAAAAAAAAAABWaWRlb0hhbmRsZXIAAAABV21pbmYAAAAUdm1oZAAAAAEA\n",
       "AAAAAAAAAAAAACRkaW5mAAAAHGRyZWYAAAAAAAAAAQAAAAx1cmwgAAAAAQAAARdzdGJsAAAAs3N0\n",
       "c2QAAAAAAAAAAQAAAKNhdmMxAAAAAAAAAAEAAAAAAAAAAAAAAAAAAAAAAbABIABIAAAASAAAAAAA\n",
       "AAABAAAAAAAAAAAAAAAAAAAAAAAAAAAAAAAAAAAAAAAAAAAAGP//AAAAMWF2Y0MBZAAV/+EAGGdk\n",
       "ABWs2UGwloQAAAMABAAAAwBQPFi2WAEABmjr48siwAAAABx1dWlka2hA8l8kT8W6OaUbzwMj8wAA\n",
       "AAAAAAAYc3R0cwAAAAAAAAABAAAAAQAABAAAAAAcc3RzYwAAAAAAAAABAAAAAQAAAAEAAAABAAAA\n",
       "FHN0c3oAAAAAAAAHyAAAAAEAAAAUc3RjbwAAAAAAAAABAAAALAAAAGJ1ZHRhAAAAWm1ldGEAAAAA\n",
       "AAAAIWhkbHIAAAAAAAAAAG1kaXJhcHBsAAAAAAAAAAAAAAAALWlsc3QAAAAlqXRvbwAAAB1kYXRh\n",
       "AAAAAQAAAABMYXZmNTYuNDAuMTAx\n",
       "\">\n",
       "  Your browser does not support the video tag.\n",
       "</video>"
      ],
      "text/plain": [
       "<IPython.core.display.HTML object>"
      ]
     },
     "execution_count": 2,
     "metadata": {},
     "output_type": "execute_result"
    }
   ],
   "source": [
    "b = Ball(shape=(10,10), radius=(3,3))\n",
    "l = ConvLSTMCell(input_size=(10,10), input_dim=1, hidden_dim=1, kernel_size=(1,1), bias=True, use_cuda=False)\n",
    "\n",
    "# Init weights\n",
    "# l.conv.weight.data.fill_(0)\n",
    "# l.conv.weight.data[3,0].fill_(1)\n",
    "# Bias order: (i,f,o,g) where g = C_candidate\n",
    "\n",
    "h,c = l.init_hidden(batch_size=1)\n",
    "# (b,t,c,h,w)\n",
    "inp = Variable(torch.from_numpy(b(sequence_length=1).astype(np.float32)))[0]\n",
    "# inp = Variable(torch.ones_like(torch.from_numpy(b(sequence_length=1).astype(np.float32))))[np.newaxis]\n",
    "# inp = inp * 1\n",
    "\n",
    "h_o, c_o = l(inp, (h,c))\n",
    "\n",
    "im = c_o[0].data.numpy()\n",
    "print(\"Range   {:.4f}  {:.4f}\".format(im.min(), im.max()))\n",
    "\n",
    "plt.close('all')\n",
    "utils.plotting.plot_synthetic(im)"
   ]
  },
  {
   "cell_type": "markdown",
   "metadata": {},
   "source": [
    "Let's train it on the synthetic Ball dataset."
   ]
  },
  {
   "cell_type": "code",
   "execution_count": 3,
   "metadata": {
    "scrolled": true
   },
   "outputs": [
    {
     "name": "stdout",
     "output_type": "stream",
     "text": [
      "Batch    0 loss: 1.18270 min 0.47 max 0.48 lr=[0.04] t_gen=0.21s t_fwd=0.84s t_loss=0.30s t_bwd=1.42s b/s=0.36\n",
      "Batch    1 loss: 1.75687 min 0.12 max 0.86 lr=[0.04] t_gen=0.21s t_fwd=0.28s t_loss=0.30s t_bwd=1.41s b/s=0.45\n",
      "Batch    2 loss: 1.12353 min 0.13 max 0.79 lr=[0.04] t_gen=0.21s t_fwd=0.28s t_loss=0.30s t_bwd=1.41s b/s=0.45\n",
      "Batch    3 loss: 0.90535 min 0.18 max 0.64 lr=[0.04] t_gen=0.22s t_fwd=0.28s t_loss=0.30s t_bwd=1.41s b/s=0.45\n",
      "Caught KeyboardInterrupt, stopping training...\n"
     ]
    },
    {
     "data": {
      "image/png": "[encoded data removed]",
      "text/plain": [
       "<matplotlib.figure.Figure at 0x7f1258607b38>"
      ]
     },
     "metadata": {},
     "output_type": "display_data"
    },
    {
     "data": {
      "image/png": "[encoded data removed]",
      "text/plain": [
       "<matplotlib.figure.Figure at 0x7f11f3acbf60>"
      ]
     },
     "metadata": {},
     "output_type": "display_data"
    },
    {
     "data": {
      "image/png": "[encoded data removed]",
      "text/plain": [
       "<matplotlib.figure.Figure at 0x7f11ebb07518>"
      ]
     },
     "metadata": {},
     "output_type": "display_data"
    }
   ],
   "source": [
    "a = {\n",
    "    \"use_cuda\": True,\n",
    "    \n",
    "    # Ball params\n",
    "    \"input_size\": [30,30],\n",
    "    \"radius\": [8,8],\n",
    "    \"velocity\": 2,\n",
    "    \"gravity\": 0,\n",
    "    \"bounce\": True,\n",
    "    \n",
    "    # Network params\n",
    "    \"input_dim\": 1,\n",
    "    \"hidden_dim\": [32,16,16],\n",
    "    \"kernel_size\": [5,5],\n",
    "    \n",
    "    # Meta params\n",
    "    \"learning_rate\": 0.04,\n",
    "    \"n_batches\": 1200,\n",
    "    \"batch_size\": 200,\n",
    "    \"inputs_seq_len\": 4,\n",
    "    \"outputs_seq_len\": 5,\n",
    "    \n",
    "    # Learning rate scheme\n",
    "    \"step_size\": 150,\n",
    "    \"gamma\": 0.5\n",
    "}\n",
    "\n",
    "model, losses, learning_rates = train(a, save_dir=\"test\")\n"
   ]
  },
  {
   "cell_type": "code",
   "execution_count": 4,
   "metadata": {
    "scrolled": true
   },
   "outputs": [
    {
     "data": {
      "image/png": "[encoded data removed]",
      "text/plain": [
       "<matplotlib.figure.Figure at 0x7f11eadfba20>"
      ]
     },
     "metadata": {},
     "output_type": "display_data"
    }
   ],
   "source": [
    "utils.plotting.plot_loss(losses, learning_rates=learning_rates)"
   ]
  },
  {
   "cell_type": "code",
   "execution_count": 5,
   "metadata": {
    "scrolled": false
   },
   "outputs": [
    {
     "data": {
      "text/html": [
       "<video width=\"432\" height=\"288\" controls autoplay loop>\n",
       "  <source type=\"video/mp4\" src=\"data:video/mp4;base64,AAAAHGZ0eXBNNFYgAAACAGlzb21pc28yYXZjMQAAAAhmcmVlAAAn0G1kYXQAAAKtBgX//6ncRem9\n",
       "5tlIt5Ys2CDZI+7veDI2NCAtIGNvcmUgMTQ4IHIyNjQzIDVjNjU3MDQgLSBILjI2NC9NUEVHLTQg\n",
       "QVZDIGNvZGVjIC0gQ29weWxlZnQgMjAwMy0yMDE1IC0gaHR0cDovL3d3dy52aWRlb2xhbi5vcmcv\n",
       "eDI2NC5odG1sIC0gb3B0aW9uczogY2FiYWM9MSByZWY9MyBkZWJsb2NrPTE6MDowIGFuYWx5c2U9\n",
       "MHgzOjB4MTEzIG1lPWhleCBzdWJtZT03IHBzeT0xIHBzeV9yZD0xLjAwOjAuMDAgbWl4ZWRfcmVm\n",
       "PTEgbWVfcmFuZ2U9MTYgY2hyb21hX21lPTEgdHJlbGxpcz0xIDh4OGRjdD0xIGNxbT0wIGRlYWR6\n",
       "b25lPTIxLDExIGZhc3RfcHNraXA9MSBjaHJvbWFfcXBfb2Zmc2V0PS0yIHRocmVhZHM9NiBsb29r\n",
       "YWhlYWRfdGhyZWFkcz0xIHNsaWNlZF90aHJlYWRzPTAgbnI9MCBkZWNpbWF0ZT0xIGludGVybGFj\n",
       "ZWQ9MCBibHVyYXlfY29tcGF0PTAgY29uc3RyYWluZWRfaW50cmE9MCBiZnJhbWVzPTMgYl9weXJh\n",
       "bWlkPTIgYl9hZGFwdD0xIGJfYmlhcz0wIGRpcmVjdD0xIHdlaWdodGI9MSBvcGVuX2dvcD0wIHdl\n",
       "aWdodHA9MiBrZXlpbnQ9MjUwIGtleWludF9taW49MiBzY2VuZWN1dD00MCBpbnRyYV9yZWZyZXNo\n",
       "PTAgcmNfbG9va2FoZWFkPTQwIHJjPWNyZiBtYnRyZWU9MSBjcmY9MjMuMCBxY29tcD0wLjYwIHFw\n",
       "bWluPTAgcXBtYXg9NjkgcXBzdGVwPTQgaXBfcmF0aW89MS40MCBhcT0xOjEuMDAAgAAAC2xliIQA\n",
       "Ff/+98nvwKbrW1u1v5PPSPwstz7CKj9uWxO06gAAAwAAGduVL4yG6guA+0AAPC5uwjfTZ68eIA26\n",
       "3MXkMZKl8DsZWIBsvVu6E0Gcy8EyXd8azbDf7Lue4WYqXf3R5KrueIwyrCebjF77IU5aIWC4cZS5\n",
       "Kx+FcaecOd+FvkzAaANn6reipIWV1RKmCGoJMDBBcdLvWLom2QJcQxCNnJUN3HjHi0vkXTHnKtAH\n",
       "FMPrNwpgKB5RIvHgtr8j/jl/3LQDvpwaTf3+VSL3zt5lPqr6sMBlvv/mTe0qlNqvMEpIlzIOSvgm\n",
       "MoJbAKa1vXQu5L767iNXd0oWtT8xPTbhBNGeF2WrHSHyTRWMjCD5pg3NOBn7U7FVxSZfniuv4CF+\n",
       "rU63yE35JN0qNCPHRVlJ4qp+fgvAd7I1NMFEPyb87z+4ViA6BVyv2Q+UV4n/0iHM/C1bQQgQ8lEX\n",
       "FkA7S0IFA/BMYAjFGlKcvyExucLIj7vH8zmcIFWqOUQuyTLI28yoV6QvATTvaniBo2NWInf0xk68\n",
       "xRgx+jX+sXELWVawtVUbiu1iAG+FaQjbT6oFFRd2ugvScGJPP+bRh5iXIawJ5skVgP+v4LDDEyTD\n",
       "gYHSaaeIWAnNEn0OlBZOhBHmJ5RF0Or7RAhgTlYpjIYJbT2Ss79HweuN32fvGI+O4w/acNCjgSqp\n",
       "IWe0oul0D6CBM8BH+0mXPytt5YgG4JbBeBnJ+RvFr91V+VXQWK5P38g1MC/QK84A68MBzBc51Ntp\n",
       "uHEM4t0d6OUXX1Q3I/Ja+U8SIWM3zmDZTvoDzD9+y1nJBXUzmDJMwMQ/gE2I6HQMjRFg5Ad4l1ix\n",
       "3VqeF4q9h0XEhAd1OdhFVqmN4+4XJRkaeOniavSUvpccaoACZr6W+frQFI06f4Cahk6TaM0UTINO\n",
       "6BSIbzyQIk/daHuatBlIC5qWcX+xooElJb7RRapz2qf3+3v7jqMTjYskPj5PGvbNstaqRgrHIOgf\n",
       "CXGWMmduhy1ePX0JvNqNd01zHu03hQavHFoAhkjCe/mHGuOYLQ7uhdbFiaJbD3kTixSlLQvjxgKz\n",
       "pOAI2vrtQGzJgnHcpzFEWmUB+j8XtUK6UrdoOmBaPQavwartRS9rAjuhNUO/8QBxBPBsH1BD9ZgY\n",
       "XQ0N1OkIt4qO1mZ3WgNxYYK8s/JqfV620asBfWNZMRiLLb44m/1Z97VSfgL3zoFsEeof0YUD+Fun\n",
       "s7G9ppXZX70VIWFVmGujUwhQAz/VJ6rkNxiDSqpeaZHlngX7CaiSnX+QrlDPxf73/+i9/7FeV8m0\n",
       "jIqanvh2EDj4dPOPVvHgT653F4X2QfWrBySbLwAE/R4rN9Jzqn0PHrSqqrXCT/j6wx8b7AS1kaV+\n",
       "9MVgRPdofv67Oz7RZr/TngCMvBlemVPlg92tAfJhFqXxxeK8Vdi9wUCWo3lDIQkqmcMTmsAQhA8g\n",
       "rUfXTvOD3gtocznTUzjbwstYXVo5yWboaFwuVe17Lg8n/ioi3BNPx/1RtiPpKaefUtv3ZvpnUGMh\n",
       "50aVD9XDY7gXfkXK3QEaJo3ZJ6mY9gUEqBxNl7BwIBoyRUt23nVC/j7pHeV0yysHLIGJScdavrGc\n",
       "UThSKXbALUkUEHpDvhSDnzavAnhtTU6yV8ll0plMAd4+OXLbFRfL2+RBxYegGXfiWEWu3UvuNtDm\n",
       "WvXmmKqZXEQH+KkTrmOtIDyY4KE3yf4U9XDyCvru8reeY/292xnlqPHc6ArZ1Kb+sGGOyH2Ema+n\n",
       "OsalI2acr7UtSIh8MhPCROo2Sg3ActUEAidEwweQah5ciZFm+vsIOs1oGBSdhWoiTswZAAMVm7TX\n",
       "/ACwhNRTaeK7DMSAvAKHsXsCQb0QVZ9nQ5Khw7aNGWP366sKzJccm8IuwEZn3sCuFXyEJTaJJYWe\n",
       "44tKcupP4XrLDvu5aSzMIIrFvx3J7NKatba7UQ8ysbbq3eDg0oCAZ3nnqBx8tsXTpKLC0iVmvLue\n",
       "CN0LqrxhYKc8oerdkONa/et6G4k3lz9TbMkD6Wg0yGviEXqDpwJcYBnYV2ja1lcmySy5lZGOvouN\n",
       "T+xuUJFRGOmJNdwOWTKWB8nxwKF3Br49Yg48QgJxi7HyRH6KOyxXj39H/rp+6pZ1zkTZf1PAunFM\n",
       "PAp7TAW8Rdf0qzVUah/QN+ecUVwZDwZGGOZJFqgAUTIJAZWmP/7ZzRikqEPZFmfTXfFiHeoanuef\n",
       "3wGwDE+eAe8BTmhmcRENtbuRItfC0DsabfiZPkes8qIA4f34Whl6/+b//Gcbd842CGw45fYASPZG\n",
       "EEXJ4olLpTnTWWvI2dIEf0rNFHJJsn+ATGR9c1VF3T8vbvl8v3SFjCz4gIb4W4PpdOqS7/4J5X/h\n",
       "h4+9ZTr1NZlWbn7TIVAsq+XA+98MRNMEPhjC9KtsfbbsgBRyegPH88apy0DD1Aaa502VlwSv8WQ3\n",
       "HhsnqZiepkIcvYhCFRk557C9LAc7iNQfAuB6wEjLykiKRvToBCaOPOpHjfQZftIrcYKOcW1Ri6HE\n",
       "DisI71/7Kf1FqJ550V2GYkBeAUPYvZ5Ej+lbAxrFnScHq5ZY/frqwrLqBKQRH8LL9deJDoxrhiUu\n",
       "gSIA2p7yk4TgUTFQB75/C9btT3KSg7JSoFGGTFXpatf0zBBBy80yZkYrbiQEdioHS47L9rVbUb9K\n",
       "t5Z6F9NVIaq6nnxI2Pome4Z/z3IC+51oJ17lsMJWLm7/8eke6dIn0u8l0DAxLVJvAko1YxkcMwcX\n",
       "7eh3WRlGYqcLHgSLWDCFI8zoeDs+escxzXiOIxsC0RoQfLzB829ziukcrtxAbsdpihniLInlwWXX\n",
       "4+lUCIqQvMZOxjd/D1NJ/hy3GZlZ/D/+ZTlY7pLG2Ho0ZhFs11PZ/2h/cs6z+2Pb1q+7GYRbNISR\n",
       "qywo+KOv9V92Mwi2KikWGb/49S/UQ6nejvQ7EJIqI2Z/Ecn/RV/Yx1Zb/34ZqaC2vbexeZSNWKfn\n",
       "nUUn+8mEmeYWzsKD5rs5DjPklgudJHpZkRutar5L19VXs9LLhdMfSaGGwWRCt+sEPPFzlDD/SGrE\n",
       "V7DpLhj9xe8RA0XaaDpK6ay8fiOm327V6sAA8bRQimOtUXxz8H+EtLdSwvVzH+xyu/4DQv6s/4JP\n",
       "fMk96c3XWW1O86sw6gAjx5td2NEGmos2FKKhBOCQCRaKO4mbKGj0rwxOTNuhXHaw3O2J8eBMAh+7\n",
       "g1lY0nZAzMzdol+/mc7jN4zd8buAl6tDCv6oQoUiVuhSaaxc6z2sjpyNl+O7Df+Xml3o6J+cReNf\n",
       "fhhVxHc3+iOEEz0cEjlcYhs2T0Nvu5DgufZMAIxt+TOSuFc/dKXU9xVDEIwYhd0UxX2fK1Rc7/6Z\n",
       "s9U42XVV94YQsMX8CIY6KD1xKZZz6V30zshtwC6gzjfMwd5wmrQInoi/1OZQ6W3xMGI56MNYT0TZ\n",
       "y5qmeYbGV6opU127pxie2tKw8Ph0RRx4r57FChCqPM9NxQSHSpTl7OA4NBx0UE2hWwKOzrS0uHN0\n",
       "3NOjkf/U7u+lE4UmonJCZpjy3tR7fVY4vWkm31etlScbHHY1x3rmJQIaQe6VoJCGkacEvVNqk4Xq\n",
       "A8V6H4Bg5E8HFB2G8JJ8FMgsiiPR3eAnRWOrIGnLLefdHA7mdDUEXLr3vXERRWnA+zP2FZoT8GxE\n",
       "lYPhj+0pyJ6WH9vPzVWP7aG0XHkdTiyavUChgX4EBfoQoKo8b3TecsxnpUmDaBU2QCW657Bas0rw\n",
       "URao0BNpGs3fZStD2/y/fDs4Td0ayCrbnv9NWDIdBNUciIwmW7tFPkCdMiJ7hrghUog/x/BQTPwM\n",
       "oezxqAlTEmZ6cLWGDHRJv3oW37wfElBq4s5nb9BYgUVF2edg2zluuA2c5Ww1u5preWfqMs49k3ur\n",
       "CyCiZ17HvxzgAAAXUQAAAyZBmiNsQV/+1qVQAF4+tPSWztLUGArNwVCIx/jkH4bzOhTwLfVV9rNJ\n",
       "DI9iACjBg78jVHtaSV4q0CXe5zvfIOKypXnIZ/WeWzXgjecZwREn5UFgEadn7dknbgUBrA2DvXMw\n",
       "xo0w9BGRKb0Ynszc/mVRtKo1GeTYc0XCa2mLmlAdeyY3b4nZryPbd5Bdkdr/oX7yI/NeqZuCl5fh\n",
       "o//RfNwFziguXX8BIq8Coy9QVerRouw0cL1dsP+usDTSOlqdQmo6FY76tNbthgawtFJW0XxmpvZ7\n",
       "dqdIv8KrfzqAasKpUkOp34hjMwn3uafXXQyWS8Hq6plikD5NO8uItuLQkse/+4bkl6qD4x9/kWY3\n",
       "5Sea6sXOcjMKACPDEPkF4/XjZM4sqNoglsfKyUpmIq7/6qHr9OFZklX35PqMNQaB71KKkN6kZGuj\n",
       "ilQdiN5ciNyCemtCooxMyWAi0oceiR5lfgxW22x2NsTGT/L6sGqLqohoNs/rO/jjSwXTJhT1vpf3\n",
       "nU4YTCCaqxVxyoa7OxfyA1MFVweRoYwJBh/NzXn+tmOBBP/tUGAv5rBGfHGB0St/iVIhvLec46xt\n",
       "BxL4H0UI0+gvND4nHxwl+J2dVA3bTvz8hKrIjR/5Vdmt4swq45N1BTWbx8h77BaR3y39PzMbs+pY\n",
       "kFtaFgLfh8bJgCgvzCmsg282F1un8m+HK3kvQkTjwiYJSFW8jHUEqYct8WuGRHbEdKvWmCENtWYU\n",
       "dUdvshQ8CNFYcEhY85lY0r7aYTmlQbyNhF3RpdZ4Kwm/5q9CMgPh8mE8C5pJn3i3V2srejaenpzT\n",
       "I2ccER0klYbMZ8eBGWZxRLBuXSdM3+ETRM4IAa4GZwSZ8TBkIeLbCs89EUHFrOWFz0mP3nBDghBJ\n",
       "qPb7Y00Cdoy/mWMwRU2Vk6SXjsVwcZ7qIvIhYOO+yYeh7sX0A3Scy8EYRfE1Uwdx/1qIwYJ2YVrM\n",
       "DFQQC8f4HfNvZj9Ik6B5nkJfGk/zPen3UhnroLkseZeB6IAk9bBjFngahtI/sxJFIjMFTsFQ9AKu\n",
       "78IvF1WwoD42Mxv57Ml/aTAnUthbLurCLgAAAT1BnkJ4gl8AAWqoqRcI9CMzw+mckW87Hu2uNXXL\n",
       "8AAAvZJf39nju7pDkBtvNOXawtVA9wDj1O6/2QIIRs1aiItA6ZTx2KrM554GzHcAmSgY3KgMBuwJ\n",
       "NbYhdK9uClN34v6T6W/yHozNvOPf6aXX/tYfoesUJahU4cH3drPkgF4Hq8AgwlpzCEAdcNoRMdk+\n",
       "9qIc9vwjJh/7dWgcjPsNtAtgGhWNIXAE15aPgG9PYG8HKoLeKeJ5In+dQ2iXPvzH4IqIty7APyw9\n",
       "9o0rph50SFshSO74rWzaGppVt+cdBsdgi8Xm3J2r7Vh3FG25bYQVfEIMbYeYskj2ZW8LtiBZWmV5\n",
       "Bt39XRKGf8SlCgq1S1AiTJY8+Jmv37+YVlKYzeLotuGLIyZ8Y/zCm8pGeic9xtNE1s9udGEOJ6bg\n",
       "SkCCgQAAAOoBnmF0QS8AAWptaRmE/712QdGp76b1Uk+v7WAA4m3hDekg9fXMYbbWZv8Rf2rdFAMF\n",
       "bkIQkj1iiton8UwjX0cQPxQ2tffORFPU9MQn5iWDMHb9vNkorzUILYV/tZZlJ4k956nlWxTN+4rG\n",
       "5ZnAO4CDAad/Oqlf0aQZC3rbdYTNuWAXI3NsMNkTTqvDfyz9wO8145DLXDzIDH74jEB1m9Ko4n8K\n",
       "m9SqVtk7NqU1RPTS8D6oSxdG97n+p59L0K0qzSjYoogY2Pe/NKZ960NLpri9wAqLl7//ciq3BH1y\n",
       "m06pVxchVDyDbavAvIAAAAViQZpkSahBaJlMCCv//talUAO6D8EAPYAyFMZ8j1eh4pjummzupwl0\n",
       "QAdjYiXp8hATNw4CqRGAalk/UA8TbiWQvp0Bw/4Hqk6RQoZ0kqKkpoaJMrq4U8sufXRc1o/w10ym\n",
       "TfXWBY1qSelOlkwrMvTmX8ept49tBpE0pfwQNhzH8F3wgAeqq6wCfyqlghucBH7GBaYLkWyb7UQ4\n",
       "3i7HAjh92L8jm/wWWvVDorwcFh1HiJzTjQ/DV4p5A18JxbmkgOheubP/QBh8G4kL6X3Nm09HWSBf\n",
       "FF/BCIm2RWfYj5D+TOxcKuBLy7WRIL6YE0ol8qfLMO5BhsYQYza+1gcnwPcTkpBigmRiMjwIy179\n",
       "9F0MCvz2pQ0nsOhfoD3nvacFLf/GVSwoC0IEPg1P9XE3lKcEoDFJ/Q+WdALucw45nP9SR+FZsL2A\n",
       "1OQ4KNDjGgk+uYZwUxFkBdZkc6sbdb199obcVXO6wzhWBekVnr4WI9H7WBv3cBhAiSftasnJJYWM\n",
       "pR/vGkut+4o5UfWzpX85EvQbPhNPKbZMbcaNRaKavF8PgMY21ifquQPrS4kuzNh5FQGaOucYaUy6\n",
       "rc75mZ5Q5e+wpwTssBidl5sVxmTgMXdfHg/BfJW5xSjir2y0jEAJK4FU+JtTjP9gcwiEYhHoWXti\n",
       "QKiP6NAWX4oBZ4v52Hk67QIyFuiWb9wLkW81EDxgUjO2jJ23tvuvf+xjXuJRr95lasHXR9rTeGFw\n",
       "NHiTmFHRwd0o6aJXhmje2HoHFbVa1ktM58v/QZr1N6Buj1jBJ+Smim/2OtnhyiNAge1DmNfrDVY3\n",
       "L+98/JFbYzPVrY9ff9gay103WAogRdkpJQH2I3VUxF1gBf82jnjHUmlyqc5/KXqXFHjrMe2OThgt\n",
       "YB3zUg1hW/wcf1n3fZfdicTQEKeMw5ZtN2hkDN3jVnn0+3lPA9UjaTYWn+Mw5cYiOlILpwLFifGQ\n",
       "4vaR9llM1GUrD2eQtUc2kVP8Md6IIj0dx4C2s3hgxp4Zi333Pmlq9V8ntO30wS6O1OoNORbseAFZ\n",
       "YIJH8912O9ryNBQwa+S9xzVFbBF8UH/Cc1WtepUe7DVhpj+Vz+o2LDdl0IBABSVEjW1vaHYrIFcU\n",
       "4uFWIOLgFGxmh2giIbFuFT7ooyjoLha/wn3PftwIeqHRn+EbOTA5QhAACPni6Mn2GM3DxFl3Zhfv\n",
       "njmNRo8Bo/HasTxFoZfNfmj24y4fB4AJUxNfUuGwGyk5hosB8fCAIAJzepDKzsRlz0LQa0u/vqSZ\n",
       "QEYprQDlDInhiNlWC2UPuI26j8rLvQOMhChvwegbGfCfG8q5R2YYGSqTfykK7ZL8sGF6xgXyWqis\n",
       "EbuClw7orM8gBcQZXbgBzGxek3I8yRrT7c+FBCb/yzFLOjKdkvyCq2PFq6T6Ie8JI+Y5TmcGgGTW\n",
       "4LTTJN/5jLMlAqowh6g5aXTyR6VysaVPtVF8bK/bcEaPXVdf1tUjUMk/Ih5JEUiD62QsH+MyEEZL\n",
       "9hEdyl7M09x+d1pAFrYCnw5k/bdL5/esLIn3yyYUc5KEcN0Q3AoF8x+n+gIBbvvYGLYChVnzUDM1\n",
       "FUw+U6yK/UHa2fCHs5UxVv7mv4mjxnF/OLhlTLqNrfjsJtiJe1PRgnrCTDaqkPf9kvBnww5VTI6A\n",
       "6bntMY+SN+0w48ur4uyz6t6XOPeND5MmSOXKS9CTsIGfi834OetAW44AGoEpGM3k+xFXJpPUH0eN\n",
       "fJBpowFuOABp74jMQxEy7x2rc2ItuNwfOOUBsBPnQUiw2L+pDnyXlxKir72KDWLtUiqLqfphbte3\n",
       "cJVGwSgQdWc8NPa/VDb3wcnAUi1EgJBFfs2kYQAAAy5BmoZJ4QpSZTBREsFf/talUAO493tJmdqA\n",
       "G2YpFeNNXR2RJ+L/LTiMzv1jM6sQnv+pUxkeHCbZmEfoj7L8UFyGMbMJbrWTf0h6zl0WipfsVImY\n",
       "hzRdXCIbAGX9sgY7DCqL3EkScp5/oyQVJpdLO7p7Y97uHvGqsCaDJENKkrdsf4Z8Clt08Wf5BB1V\n",
       "hpU6XlePi3J4sqKxyycjsT6+xOQxbY9d9QXhoJ8rs4cCGjE+Z1evTSFl5z44dIBA2OmJl1PDWa3j\n",
       "ddruR6XfX2GU/jQBObktuKONWrQQ04CVN0adas1NNKLJElFPhKtoJUdSX9WnFOLowwtkAvKb+gAF\n",
       "Txghmv8ZNsxaIqK1C2374eqz6SHnuGiHqcYB/aXNoiJGzyYntIx+vgoC7M56poyShyT2lOllT8QZ\n",
       "cevm9vZS1r8wWvmi5z1qnnUl9kXlr/nGmXiT982u1n2icgp/Nt2RONiDBDC3LohXOqnWlpqXKb4g\n",
       "BsudCvshclHWwFnB7yxBqYF+H8XFaYTFvjRrV6j2Wh4ktLREuySvGrgJjzEJIkWHcMs4pDO9upv4\n",
       "wbGiYRPfAMYjtbPPlRfmZR+xzzHGDe92RhaYEvXjNXJXrm5G4EPF07/5vG1FN7tomd2SMunLl6W2\n",
       "Q6HtS8k738bulYfWSQG7c7rmFdotaXPZPtWfBLfSPHk329WXwEusa0jp+4IZHWVpOTI+prhKd78Y\n",
       "1J1vKIdvH9/dwBcF5ePKVEQOz7VZRdvTl/W+y2SeX+z4uvF7H6+OT+8hkd3XRPJwlWhffNrMVVw1\n",
       "2xjEQGgBnYvPBCP57pGxGRD//x+vm2ulnL2ZMMOTEng0wdT8v8xvBz5kcQAcby7fiAjTI4qYDXuo\n",
       "1IwMzmJ7whODCH67AcnqT92MkASb8ohdlOmS2hOLMsgHDkvdvrLjWfb5C8SXkiqX4dVAS+1GUSvB\n",
       "cPJXuDKchMgkL4PFhbfmzd0qtAKrTo44of2bizxvbePgxCy7oxMSSWm7F3pFbYN/rjAQBzNIdf8K\n",
       "9yLsMbSUnSgd8s905r2BMw0rtWRFHRSQfoSTieBQrk/vy0yG0PkTyl4ozDXhc58hAAACWwGepWpB\n",
       "LwAM4pzHAAIWshy48cU/CoIKAhKF5+Id5u1ktNbPbfJgvlw+IkiabelnUUCZZz2Wgg1AF7vBT3NF\n",
       "4V5C6Mq4qeyTKFWCE8efPJoRdRDVwd4860fHnYyccWEQATGwMO+PWqhTLtsOoLbn+mvvFnXUa/8j\n",
       "q/JN+4hx5UgLUSL0a2R2QGOMHXyM51vyZ55k7EdXYOoy707JXJY94iCurp/zw/LNijBsdFRAfksK\n",
       "+XbvPiq+g+qjSWbPsttsXgzbZLfdsVJiuQrwMuMMEnGsewHefPW1vhSr5RqJQiXCz7bs8u2YRGKW\n",
       "iE96eQASZF/4SXpHYrv7z67mJepQqyBL2FKdW7JQQaX3bFxiqPdQBl0I/2/N89J6L230tJBRm9yj\n",
       "mg38RXLAG00SoLfwQjbFDREukrUh7h+8QuYBp6O3vSQRCEi61akIsSoL6L2u6wQtzzZy35qxLmlk\n",
       "pvtKu3g0s997kEeHPFAo/7Hp04a+sfjDRd13BNUmoQlN3MMkCtRs9OeI+rB6oAB9rB5UrRYO1+X4\n",
       "frH5wtNdPLary0ZgKMZ6d74k2QxBFoknDxOBYVxWAdWY8U8b3njLrMbQDDD1yZPDqOnVsO8qDrlV\n",
       "q4GdIo2O4/XvcOZlp0GXsW699dzDb4gdr1Dhj2tB45Aw+4fgf6pASpTf0S9FQjYesUzPH4dQDUdj\n",
       "7OcQmyOkoWhANZ3TX8iTD3mwtOP9w9r+52f+u0lL9ovHAFyOE1hbObQRO8Y1hYhqcI37W7Q2cOEU\n",
       "ZxJQa+GjRsujF0d2yEKXpIDLQSBUVIDlzy48vwAAAhFBmqlJ4Q6JlMCCv/7WpVADuhpUAAbQZv9J\n",
       "kIhJlzMjH8+RgVJhJIXRrHrb6UE2gzbFSoKfAHIr2hW0wnEJK8Xmmix8H/bkThIpRne26ek0AqGl\n",
       "vUBS0RydSFUC6hbi9XsmboJSg054kv65f16tqmZ+6vSPnBwWRA+OGVJwD2bK1S8dwYhVCgVqlTs0\n",
       "S/NyBQsKRoGQ7mbWHZ/JrvMa9bU5Se4cQ/JuEGUbQJsYAWwrXuuXT4uayTtAfcc/vpB0IjDhHZjC\n",
       "pweWsAA99+kv28kbeIoHvdQWkA4l5Jw1lUZKwFSR3texRLepS01JMq9j8zvrBsQJsInRehspEp0Z\n",
       "LsTeHmb6ACd4Z+Ywiaznd1IqR8/jWfe2SUXJjQrRZAok3i2jDrMtUq4eN/n8JjfrmLlK1brG4pW5\n",
       "jAAkDIs0OLTxhQHZo+1dlwBl7Y+8q6LPxMfqGO7Di8xmRMNeabXnzzo4CHca6Z9xmA/x2L5xffch\n",
       "Qju/RSBnWQB0r8a7fn9U5qrHia3jPf2J8yUnjsIm89oG0k1zSusTTXXcc2kTcOl7c3KpsGucpg3T\n",
       "qQDfO+ZCP/uErlfOkYdRhZrh+3K/7NUmado7ALBrCmCn1dw28JFufO1dxrGDVcWGRgPwDuMhNfPS\n",
       "R/2td5varHXJrPHQtC58iwdH2bw+SptdzXEvylNN+0CgdVh3IJNEXBaWxY90zTGnAAABTEGeyEIJ\n",
       "fwAGQXOFBqXrMSsbMWDH2lsoVdTOXDDd7Z9hYb6/gIDcVUAXUjjmF0F3gb/3r46H/oX9tvRTUCMC\n",
       "fk70KL0wGs9gi3aO2kZJYvlvK78GIk0Qn4dCkx0zBdK9SZt35mwsqvH2yFm45QNyyDKvvtEXgHde\n",
       "v/98nvFFeQvLoXkpBA8XYeGhDCFK9At/BvDkXBXdaI8GKMCPQsOyPThJz6Kjyr0UuolgI7zs/P2i\n",
       "aNYV/g48bQYpyPEnI9zvM/yWjIaZpEYCUodM6nA4YxCFiCmOLCPxkd8mLIZd855BVnhliU6rmacE\n",
       "fIfo+NBRRKIN/4P6Z046Vlq62Lp5t/tSodko2K0232dEe7q7N4i7Fpsn2F4+tWGM0THtOiqTt1Cy\n",
       "83vDrds0rUFTg1WIwenN05SRq8DE26KTOaRy5x+BP7U1sdWWQbgrbV+mAAABlgGe52kQS/8ADCgw\n",
       "F8LVoPLtfAk6pc+jqR7J6nooqkNdYqv/tcfEa21p4oBmKqELd3NYiIy0KErj/usnQMFabnxlngM5\n",
       "ohWrY9yN7YtGOsK48Hs1DVsHkdHMus7URYMrJiUygdxzXL4NNcdHASV+2DDtHDE5eWcaNuyr/kij\n",
       "SmGIILuERSy9gmLgNyCq9013qOYQq7vLWwvTXrV5htQh66to0gyaPYYdATCZC+xUOZbBx8OyAP6W\n",
       "S4WaUZfSpwnnYtM+FDfZaRLpiv3MxUBVz42H54Djwlm6iPeWetrj/1sRVSu1v2eSQpAZzXKM2baT\n",
       "ojt54eYTIsKgzzMD+OdF88gDziW885gHOYfY2JXhJD2wKSRSroYnP+Gjhgp+wKSAYLBh//C8047x\n",
       "NicHeMly/ta0voej7V/MotaFgRwzPKsZiOhGfw7z7JBUmlp5PTGh2PRvvQjX/aATqu9vtv3EHQIr\n",
       "a98HIjuTEAUAMEYyYP2+Qe0n/5pHyjDNe3uPMfTmRwQpLhlidhW+VYVV2HFx+qTdt1+gQ0AAAAC8\n",
       "QZrtSahBaJlMCCv//talUAO5alqsAAt1HbUFdZwxifmaQnVutXFGdraHMoKdFkhPH3TrQcCK0VQW\n",
       "qL97VrMr+6/iSJZ4TlJvPeIo3jvh9EWOMCA7XanBKE/KErWCELcHfrbEUBX1vAAAhPPkBG2LXnAB\n",
       "Z2/2SM9rYBrC3X7pTarLPFXYBIIp4EIep+eChLQ5ewZcpuyfC53h0pCYtIAzbWnCcVBZWt+m4KKT\n",
       "ofsVSUfi54XqyW7lUu9k61MAAAChQZ8LRREsE/8ABB5T9dZ/AQP8az5fIRCjCph1hJqUlOQlP59G\n",
       "qISoK9RDbEQK/pvrw6aa+S07c+O1al4fojUZ1sMpGIbr24eC0sXMxVCr6/fWgZNM9pNQxh1xldst\n",
       "BeLSGBd+zD1gY/sXe/PnjZxqITYSaNW8wIR/EYty8K7OsJEhZ7IYMYNg63Wm2SrONkjmqijZWhW8\n",
       "KZXIRKAvbRPWDfgAAAD/AZ8qdEEvAAZBYynwTWIgugUgvloGw+zDlpeipQcrpj3tI3CmPN7hHFIA\n",
       "a9HUACr9GfIOnJRH/ztlh6yJxOkm/qVr/K1w/sJJeM+bXMJHEAE3ssI6v8/Nayr9rk+4OoFKiCTy\n",
       "WleoQBGNEwTPUDWVZXBpQ7b0U3Y7q25nSDeaPs/NILyZ7zVRpeJyuF+Y/P/6yLSammyRub/EJ/LW\n",
       "mE9ebHT/oLCJ21RHQXzwzeR0y2EL8+NigCJd8/y7BdqIBcOo8PtcctRr+1Z26IIxzVn0+HwQ20my\n",
       "Xpl0CwVz+EIYjzxyAVw4ONd8SlFLMZe4LtkyXAy7UG5ESmM8xG66NiAgAAAAbwGfLGpBLwAGQMHL\n",
       "Dr8aQeqU5xe34xGBI5nyR7HMg/IzRafrBvgCkP/3T7VKNg8AA7WBy0uOTpip36is04tRrmaAOH1C\n",
       "WULjJmPxoyNF2yts1foXAte9xWELylIvu9KDEG+yxwM6oeJguH6Tx8y9CQAAAFlBmzFJqEFsmUwI\n",
       "J//+tSqAC8ETeiZPfLgjO/EIizQQihxKw2BapqPkiuALJbF2wbbI8Pfm3At4qm6GFn75CCLo8mN0\n",
       "SUCzgrYu/ERsl4lKVSGaw2rkCCY3MQAAAGBBn09FFSwT/wAEH9zCs6RadjjsFnuGBnujbJ1ZJtPm\n",
       "oiwK/PSZSoSstEI6M1qN68M+7F3sDpPDFR36I1mUN4NvkqnLogIR0yNgbKo3uFq+smNFb/bNLiwk\n",
       "xGe7E8KgfEEAAAA/AZ9udEEvAAWevbe8wqpiWsDXrttTdysZsi1PfUOWsDw9x1eb0Ig067+e+bb/\n",
       "BXYPJic4vU5S9FmAwFCUEl3AAAAAQgGfcGpBLwAFq1aeZZfUKAVmfOK4gxscQrpiIBGvbvvdyqoU\n",
       "D8tz0FfBoY2IWrpj5e7BA2NatJLZQ6Mxmnl7R0I9IAAAAC9Bm3JJqEFsmUwIJf/+tSqACyc/oZBL\n",
       "gID0UPO/hvsISbF28ZD6w2D/u070jAAPmQAABBJtb292AAAAbG12aGQAAAAAAAAAAAAAAAAAAAPo\n",
       "AAAdsAABAAABAAAAAAAAAAAAAAAAAQAAAAAAAAAAAAAAAAAAAAEAAAAAAAAAAAAAAAAAAEAAAAAA\n",
       "AAAAAAAAAAAAAAAAAAAAAAAAAAAAAAAAAAACAAADPHRyYWsAAABcdGtoZAAAAAMAAAAAAAAAAAAA\n",
       "AAEAAAAAAAAdsAAAAAAAAAAAAAAAAAAAAAAAAQAAAAAAAAAAAAAAAAAAAAEAAAAAAAAAAAAAAAAA\n",
       "AEAAAAABsAAAASAAAAAAACRlZHRzAAAAHGVsc3QAAAAAAAAAAQAAHbAAACAAAAEAAAAAArRtZGlh\n",
       "AAAAIG1kaGQAAAAAAAAAAAAAAAAAACgAAAEwAFXEAAAAAAAtaGRscgAAAAAAAAAAdmlkZQAAAAAA\n",
       "AAAAAAAAAFZpZGVvSGFuZGxlcgAAAAJfbWluZgAAABR2bWhkAAAAAQAAAAAAAAAAAAAAJGRpbmYA\n",
       "AAAcZHJlZgAAAAAAAAABAAAADHVybCAAAAABAAACH3N0YmwAAACzc3RzZAAAAAAAAAABAAAAo2F2\n",
       "YzEAAAAAAAAAAQAAAAAAAAAAAAAAAAAAAAABsAEgAEgAAABIAAAAAAAAAAEAAAAAAAAAAAAAAAAA\n",
       "AAAAAAAAAAAAAAAAAAAAAAAAAAAY//8AAAAxYXZjQwFkABX/4QAYZ2QAFazZQbCWhAAAAwAIAAAD\n",
       "ACg8WLZYAQAGaOvjyyLAAAAAHHV1aWRraEDyXyRPxbo5pRvPAyPzAAAAAAAAABhzdHRzAAAAAAAA\n",
       "AAEAAAATAAAQAAAAABRzdHNzAAAAAAAAAAEAAAABAAAAqGN0dHMAAAAAAAAAEwAAAAEAACAAAAAA\n",
       "AQAAQAAAAAABAAAgAAAAAAEAAAAAAAAAAQAAIAAAAAABAAAwAAAAAAEAABAAAAAAAQAAQAAAAAAB\n",
       "AAAgAAAAAAEAAAAAAAAAAQAAUAAAAAABAAAgAAAAAAEAAAAAAAAAAQAAEAAAAAABAABQAAAAAAEA\n",
       "ACAAAAAAAQAAAAAAAAABAAAQAAAAAAEAACAAAAAAHHN0c2MAAAAAAAAAAQAAAAEAAAATAAAAAQAA\n",
       "AGBzdHN6AAAAAAAAAAAAAAATAAAOIQAAAyoAAAFBAAAA7gAABWYAAAMyAAACXwAAAhUAAAFQAAAB\n",
       "mgAAAMAAAAClAAABAwAAAHMAAABdAAAAZAAAAEMAAABGAAAAMwAAABRzdGNvAAAAAAAAAAEAAAAs\n",
       "AAAAYnVkdGEAAABabWV0YQAAAAAAAAAhaGRscgAAAAAAAAAAbWRpcmFwcGwAAAAAAAAAAAAAAAAt\n",
       "aWxzdAAAACWpdG9vAAAAHWRhdGEAAAABAAAAAExhdmY1Ni40MC4xMDE=\n",
       "\">\n",
       "  Your browser does not support the video tag.\n",
       "</video>"
      ],
      "text/plain": [
       "<IPython.core.display.HTML object>"
      ]
     },
     "execution_count": 5,
     "metadata": {},
     "output_type": "execute_result"
    }
   ],
   "source": [
    "b = Ball(shape=a['input_size'], radius=a['radius'], velocity=a['velocity'], gravity=a['gravity'], bounce=a['bounce'])\n",
    "\n",
    "inputs = b(batch_size=1, sequence_length=4)\n",
    "inputs_var = Variable(torch.from_numpy(inputs)).cuda()\n",
    "\n",
    "preds = model(inputs_var, n_targets=15)\n",
    "\n",
    "inp = [inputs[0,timestep,0] for timestep in range(inputs.shape[1])]\n",
    "p = [v[0,0].data for v in preds]\n",
    "\n",
    "utils.plotting.plot_synthetic(inp+p, interval=400)"
   ]
  }
 ],
 "metadata": {
  "kernelspec": {
   "display_name": "Python [conda env:main]",
   "language": "python",
   "name": "conda-env-main-py"
  },
  "language_info": {
   "codemirror_mode": {
    "name": "ipython",
    "version": 3
   },
   "file_extension": ".py",
   "mimetype": "text/x-python",
   "name": "python",
   "nbconvert_exporter": "python",
   "pygments_lexer": "ipython3",
   "version": "3.6.3"
  }
 },
 "nbformat": 4,
 "nbformat_minor": 2
}
