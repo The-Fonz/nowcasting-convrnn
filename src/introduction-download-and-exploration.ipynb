{
 "cells": [
  {
   "cell_type": "markdown",
   "metadata": {},
   "source": [
    "# Data download and exploratory analysis\n",
    "\n",
    "Currently precipitation radar nowcasting is mainly done by optical flow or radial velocity estimates. If we use neural nets we can maybe capture the behavior of rain clouds better (e.g. a single summer evening cumulonimbus versus a heat front), and the topographic influences (e.g. fohn effect), without explicitly specifying rules or terrain.\n",
    "\n",
    "## Relevant papers\n",
    "\n",
    "It's already being done here: http://arxiv.org/pdf/1506.04214.pdf\n",
    "\n",
    "## Data\n",
    "\n",
    "The KNMI has an [open data program](http://data.knmi.nl) now. I identified three interesting datasets:\n",
    "\n",
    "- [2008-] [5-min radar reflectivity composites](http://data.knmi.nl/datasets/radar_tar_refl_composites/1.0), this is what we're trying to establish the behavior of, and what should be our internal state.\n",
    "- [2008-] [Forecasted 5-min radar reflectivity composites](http://data.knmi.nl/datasets/radar_forecast/1.0), this is our baseline, where they extrapolate the radar images based on a velocity estimate. Only the data of last day is online, which is a pity. Might contact them to get my hands on more data.\n",
    "- [2008-] [5-min gauge-adjusted precipitation accumulations (1 km, extended mask)](http://data.knmi.nl/datasets/rad_nl25_rac_mfbs_em_5min/2.0), this can serve as the ground truth. Would be amazing if we can train with radar reflectivity as input and this as output, then the errors in the reflectivity composites might be diminished.\n",
    "- [2014-] [Radar echo top height composites](http://data.knmi.nl/datasets/radar_tar_echotopheight_5min/1.0), I'm not keen on training on the full radar reflectivity volumes, but this might just be a nice derivative that does give extra information that might add to the model's predictive power.\n",
    "\n",
    "Most of this data is available via FTP. The format, projection and extent is described at http://adaguc.knmi.nl/contents/datasets/productdescriptions/W_ADAGUC_Product_description_RADNL_OPER_R___25PCPRR_L3.html.\n",
    "\n",
    "## Dependencies\n",
    "\n",
    "`conda install h5py tqdm matplotlib pyproj`\n",
    "\n",
    "`conda install -c conda-forge cartopy`\n",
    "\n",
    "Use SIMD-accelerated pillow for faster resizing:\n",
    "`CC=\"cc -mavx2\" pip install -U --force-reinstall pillow-simd`"
   ]
  },
  {
   "cell_type": "code",
   "execution_count": 1,
   "metadata": {},
   "outputs": [],
   "source": [
    "# All imports\n",
    "import os, io, re, glob, tarfile\n",
    "import concurrent.futures\n",
    "from pprint import pprint\n",
    "\n",
    "# Third parties\n",
    "import h5py\n",
    "import numpy as np\n",
    "from IPython.display import Image\n",
    "from ftplib import FTP\n",
    "import matplotlib.pyplot as plt\n",
    "from tqdm import tqdm_notebook\n",
    "\n",
    "# Own code\n",
    "import utils\n",
    "\n",
    "# Constants\n",
    "folder = utils.RADAR_REFL_COMP_DIR\n",
    "\n",
    "%matplotlib inline\n",
    "%load_ext autoreload"
   ]
  },
  {
   "cell_type": "markdown",
   "metadata": {},
   "source": [
    "### File discovery\n",
    "\n",
    "The radar reflectivity composites are organized in *.tar* files, one per day. Let's retrieve all their filenames. (This can take a while for something like 10\\*365 filenames.)"
   ]
  },
  {
   "cell_type": "code",
   "execution_count": 104,
   "metadata": {
    "scrolled": true
   },
   "outputs": [
    {
     "name": "stdout",
     "output_type": "stream",
     "text": [
      "230 login accepted\n",
      "Finished filename # 3607\n"
     ]
    }
   ],
   "source": [
    "## Ok, now on to the real stuff: radar reflectivity composites\n",
    "refl_comp_ftp_urls = []\n",
    "\n",
    "with FTP('data.knmi.nl', timeout=10) as ftp:\n",
    "    print(ftp.login())\n",
    "    yearfolders = ftp.nlst('/download/radar_tar_refl_composites/1.0/0001/')\n",
    "    for yearfolder in yearfolders:\n",
    "        for monthfolder in ftp.nlst(yearfolder):\n",
    "            for dayfolder in ftp.nlst(monthfolder):\n",
    "                # Should contain just one file\n",
    "                for day_file in ftp.nlst(dayfolder):\n",
    "                    refl_comp_ftp_urls.append(day_file)\n",
    "                    # Use carriage return to overwrite\n",
    "                    print(\"Retrieve filename # {}\".format(len(refl_comp_ftp_urls)), end='\\r')\n",
    "\n",
    "print(\"Finished\")\n",
    "\n",
    "# Save to file for later retrieval\n",
    "with open('refl_comp_ftp_urls.txt', 'w') as f:\n",
    "    f.write('\\n'.join(refl_comp_ftp_urls))"
   ]
  },
  {
   "cell_type": "markdown",
   "metadata": {},
   "source": [
    "Run the cell below to restore urls from file."
   ]
  },
  {
   "cell_type": "code",
   "execution_count": 75,
   "metadata": {},
   "outputs": [
    {
     "name": "stdout",
     "output_type": "stream",
     "text": [
      "Loaded 3602 filenames\n"
     ]
    }
   ],
   "source": [
    "# Run this to restore from file\n",
    "with open('refl_comp_ftp_urls.txt', 'r') as f:\n",
    "    # Clean up \\n's\n",
    "    refl_comp_ftp_urls = [l.strip() for l in f.readlines()]\n",
    "print(\"Loaded {} filenames\".format(len(refl_comp_ftp_urls)))"
   ]
  },
  {
   "cell_type": "markdown",
   "metadata": {},
   "source": [
    "### Downloading files\n",
    "\n",
    "Now we download all files. You probably want to download a smaller subset at first because this can take hours (it's >75GB and their ftp server is not so fast)."
   ]
  },
  {
   "cell_type": "code",
   "execution_count": 105,
   "metadata": {
    "scrolled": false
   },
   "outputs": [
    {
     "name": "stdout",
     "output_type": "stream",
     "text": [
      "230 login accepted\n"
     ]
    },
    {
     "data": {
      "application/vnd.jupyter.widget-view+json": {
       "model_id": "5edafbdd24ca4e8f8200ab203bd15e88",
       "version_major": 2,
       "version_minor": 0
      },
      "text/html": [
       "<p>Failed to display Jupyter Widget of type <code>HBox</code>.</p>\n",
       "<p>\n",
       "  If you're reading this message in the Jupyter Notebook or JupyterLab Notebook, it may mean\n",
       "  that the widgets JavaScript is still loading. If this message persists, it\n",
       "  likely means that the widgets JavaScript library is either not installed or\n",
       "  not enabled. See the <a href=\"https://ipywidgets.readthedocs.io/en/stable/user_install.html\">Jupyter\n",
       "  Widgets Documentation</a> for setup instructions.\n",
       "</p>\n",
       "<p>\n",
       "  If you're reading this message in another frontend (for example, a static\n",
       "  rendering on GitHub or <a href=\"https://nbviewer.jupyter.org/\">NBViewer</a>),\n",
       "  it may mean that your frontend doesn't currently support widgets.\n",
       "</p>\n"
      ],
      "text/plain": [
       "HBox(children=(IntProgress(value=0, description='Downloading files', max=10), HTML(value='')))"
      ]
     },
     "metadata": {},
     "output_type": "display_data"
    },
    {
     "name": "stdout",
     "output_type": "stream",
     "text": [
      "\n"
     ]
    }
   ],
   "source": [
    "with FTP('data.knmi.nl', timeout=10) as ftp:\n",
    "    print(ftp.login())\n",
    "    for ftp_url in tqdm_notebook(refl_comp_ftp_urls[-10:], desc=\"Downloading files\", unit=\"file\"):\n",
    "        utils.download_cache_ftp(utils.RADAR_REFL_COMP_DIR, ftp, ftp_url, verbose=False)"
   ]
  },
  {
   "cell_type": "markdown",
   "metadata": {},
   "source": [
    "Next step is to untar all the files. I'd like to do that in streaming fashion but the h5py library doesn't support that in an easy way.\n",
    "\n",
    "So now we untar to disk, taking care to check if the files exist and then deleting the original file to save space. The code is slightly more verbose because of the concurrency."
   ]
  },
  {
   "cell_type": "code",
   "execution_count": 106,
   "metadata": {
    "scrolled": false
   },
   "outputs": [
    {
     "name": "stdout",
     "output_type": "stream",
     "text": [
      "Found 10 tar files in /home/ubuntu/nowcasting-convrnn/data/radar_refl_comp\n",
      "Submitted all tasks\n"
     ]
    },
    {
     "data": {
      "application/vnd.jupyter.widget-view+json": {
       "model_id": "fd7916e9e7cb492aaf6aade704f2d8d7",
       "version_major": 2,
       "version_minor": 0
      },
      "text/html": [
       "<p>Failed to display Jupyter Widget of type <code>HBox</code>.</p>\n",
       "<p>\n",
       "  If you're reading this message in the Jupyter Notebook or JupyterLab Notebook, it may mean\n",
       "  that the widgets JavaScript is still loading. If this message persists, it\n",
       "  likely means that the widgets JavaScript library is either not installed or\n",
       "  not enabled. See the <a href=\"https://ipywidgets.readthedocs.io/en/stable/user_install.html\">Jupyter\n",
       "  Widgets Documentation</a> for setup instructions.\n",
       "</p>\n",
       "<p>\n",
       "  If you're reading this message in another frontend (for example, a static\n",
       "  rendering on GitHub or <a href=\"https://nbviewer.jupyter.org/\">NBViewer</a>),\n",
       "  it may mean that your frontend doesn't currently support widgets.\n",
       "</p>\n"
      ],
      "text/plain": [
       "HBox(children=(IntProgress(value=1, bar_style='info', description='Extracting', max=1), HTML(value='')))"
      ]
     },
     "metadata": {},
     "output_type": "display_data"
    },
    {
     "name": "stdout",
     "output_type": "stream",
     "text": [
      "\n"
     ]
    }
   ],
   "source": [
    "tar_files = sorted(glob.glob(os.path.join(folder, '*.tar')))\n",
    "\n",
    "print(\"Found {} tar files in {}\".format(len(tar_files), folder))\n",
    "\n",
    "utils.untar_concurrent(tar_files)"
   ]
  },
  {
   "cell_type": "code",
   "execution_count": 2,
   "metadata": {
    "scrolled": true
   },
   "outputs": [
    {
     "name": "stdout",
     "output_type": "stream",
     "text": [
      "File 20 contains:\n",
      "geographic\n",
      "\t<HDF5 group \"/geographic\" (1 members)>\n",
      "\t\tgeo_par_pixel: b'X,Y'\n",
      "\t\tgeo_dim_pixel: b'KM,KM'\n",
      "\t\tgeo_pixel_def: b'LU'\n",
      "\t\tgeo_number_columns: [700]\n",
      "\t\tgeo_number_rows: [765]\n",
      "\t\tgeo_pixel_size_x: [ 1.00000346]\n",
      "\t\tgeo_pixel_size_y: [-1.00000477]\n",
      "\t\tgeo_column_offset: [ 0.]\n",
      "\t\tgeo_row_offset: [ 3649.98193359]\n",
      "\t\tgeo_product_corners: [  0.          49.36206436   0.          55.97360229  10.85645294\n",
      "  55.38897324   9.00930023  48.89530182]\n",
      "\n",
      "geographic/map_projection\n",
      "\t<HDF5 group \"/geographic/map_projection\" (0 members)>\n",
      "\t\tprojection_indication: b'Y'\n",
      "\t\tprojection_name: b'STEREOGRAPHIC'\n",
      "\t\tprojection_proj4_params: b'+proj=stere +lat_0=90 +lon_0=0 +lat_ts=60 +a=6378.14 +b=6356.75 +x_0=0 y_0=0'\n",
      "\n",
      "image1\n",
      "\t<HDF5 group \"/image1\" (3 members)>\n",
      "\t\timage_product_name: b'RAD_NL25_PCP_H1.5_NA'\n",
      "\t\timage_geo_parameter: b'REFLECTIVITY_[DBZ]'\n",
      "\t\timage_size: [535500]\n",
      "\t\timage_bytes_per_pixel: [1]\n",
      "\n",
      "image1/calibration\n",
      "\t<HDF5 group \"/image1/calibration\" (0 members)>\n",
      "\t\tcalibration_flag: b'Y'\n",
      "\t\tcalibration_formulas: b'GEO = 0.500000 * PV + -32.000000'\n",
      "\t\tcalibration_missing_data: [0]\n",
      "\t\tcalibration_out_of_image: [255]\n",
      "\n",
      "image1/image_data\n",
      "\t<HDF5 dataset \"image_data\": shape (765, 700), type \"|u1\">\n",
      "\t\tCLASS: b'IMAGE'\n",
      "\t\tVERSION: b'1.2'\n",
      "\t\tPALETTE: <HDF5 object reference>\n",
      "\n",
      "image1/statistics\n",
      "\t<HDF5 group \"/image1/statistics\" (0 members)>\n",
      "\t\tstat_min_value: [-31.5]\n",
      "\t\tstat_max_value: [ 27.]\n",
      "\n",
      "overview\n",
      "\t<HDF5 group \"/overview\" (0 members)>\n",
      "\t\tproduct_group_name: b'RAD_NL25_PCP_NA'\n",
      "\t\tproducts_missing: b'NA'\n",
      "\t\thdftag_version_number: b'3.6'\n",
      "\t\tnumber_satellite_groups: [0]\n",
      "\t\tnumber_radar_groups: [3]\n",
      "\t\tnumber_station_groups: [0]\n",
      "\t\tnumber_image_groups: [1]\n",
      "\t\tproduct_datetime_start: b'27-NOV-2017;23:55:00.000'\n",
      "\t\tproduct_datetime_end: b'27-NOV-2017;23:55:00.000'\n",
      "\n",
      "radar1\n",
      "\t<HDF5 group \"/radar1\" (0 members)>\n",
      "\t\tradar_name: b'DeBilt'\n",
      "\t\tradar_location: [  5.17833996  52.10168076]\n",
      "\t\tradar_operational: [0]\n",
      "\n",
      "radar2\n",
      "\t<HDF5 group \"/radar2\" (0 members)>\n",
      "\t\tradar_name: b'DenHelder'\n",
      "\t\tradar_location: [  4.79997015  52.95333862]\n",
      "\t\tradar_operational: [1]\n",
      "\n",
      "radar3\n",
      "\t<HDF5 group \"/radar3\" (0 members)>\n",
      "\t\tradar_name: b'Herwijnen'\n",
      "\t\tradar_location: [  5.13810015  51.8368988 ]\n",
      "\t\tradar_operational: [1]\n",
      "\n",
      "visualisation1\n",
      "\t<HDF5 group \"/visualisation1\" (1 members)>\n",
      "\t\t\n",
      "\n",
      "visualisation1/color_palette\n",
      "\t<HDF5 dataset \"color_palette\": shape (256, 3), type \"|u1\">\n",
      "\t\tCLASS: b'PALETTE'\n",
      "\t\tPAL_COLORMODEL: b'RGB'\n",
      "\t\tPAL_TYPE: b'STANDARD8'\n",
      "\t\tPAL_VERSION: b'1.2'\n",
      "\n"
     ]
    }
   ],
   "source": [
    "## Construct dataset obj compliant with torch abstractions\n",
    "\n",
    "class ReflCompTarDataset():\n",
    "    def __init__(self, folder):\n",
    "        \"Search folder for hdf5 files and add them to dataset\"\n",
    "        # Sort by filename, which reflects date\n",
    "        self.h5files = sorted(glob.glob(os.path.join(folder, '*.h5')))\n",
    "    \n",
    "    def show_structure(self, idx):\n",
    "        \"Returns list of lines, showing groups, datasets and attributes\"\n",
    "        h5file = self.__getitem__(idx)\n",
    "        return utils.explain_hdf5_file(h5file)\n",
    "    \n",
    "    def __getitem__(self, idx):\n",
    "        return h5py.File(self.h5files[idx])\n",
    "    \n",
    "    def crunch(n_workers=8):\n",
    "        \"Crunch through the entire dataset, gathering stats\"\n",
    "        pass\n",
    "\n",
    "ds = ReflCompTarDataset(folder)\n",
    "print(\"File 20 contains:\")\n",
    "print('\\n'.join(ds.show_structure(-1)))"
   ]
  },
  {
   "cell_type": "code",
   "execution_count": null,
   "metadata": {},
   "outputs": [
    {
     "data": {
      "application/vnd.jupyter.widget-view+json": {
       "model_id": "0405dc7036d64ddfa06b446ff0bfc1de",
       "version_major": 2,
       "version_minor": 0
      },
      "text/html": [
       "<p>Failed to display Jupyter Widget of type <code>HBox</code>.</p>\n",
       "<p>\n",
       "  If you're reading this message in the Jupyter Notebook or JupyterLab Notebook, it may mean\n",
       "  that the widgets JavaScript is still loading. If this message persists, it\n",
       "  likely means that the widgets JavaScript library is either not installed or\n",
       "  not enabled. See the <a href=\"https://ipywidgets.readthedocs.io/en/stable/user_install.html\">Jupyter\n",
       "  Widgets Documentation</a> for setup instructions.\n",
       "</p>\n",
       "<p>\n",
       "  If you're reading this message in another frontend (for example, a static\n",
       "  rendering on GitHub or <a href=\"https://nbviewer.jupyter.org/\">NBViewer</a>),\n",
       "  it may mean that your frontend doesn't currently support widgets.\n",
       "</p>\n"
      ],
      "text/plain": [
       "HBox(children=(IntProgress(value=0, max=400000), HTML(value='')))"
      ]
     },
     "metadata": {},
     "output_type": "display_data"
    },
    {
     "name": "stdout",
     "output_type": "stream",
     "text": [
      "\n"
     ]
    }
   ],
   "source": [
    "import multiprocessing\n",
    "\n",
    "def map_reduce(indexes, map_func, reduce_func, n_workers=8, chunk_size=1000, stop_signal_queue=None):\n",
    "    with concurrent.futures.ProcessPoolExecutor(max_workers=n_workers) as tpe:\n",
    "        index_groups = np.array(indexes).reshape((-1,chunk_size))\n",
    "        futs = [tpe.submit(map_func, indx, stop_signal_queue) for indx in index_groups]\n",
    "        results = []\n",
    "        with tqdm_notebook(total=len(futs)*chunk_size) as pbar:\n",
    "            for fut in concurrent.futures.as_completed(futs):\n",
    "                pbar.update(chunk_size)\n",
    "                results.append(fut.result())\n",
    "#                 if stop_signal_queue and not stop_signal_queue.empty():\n",
    "#                     break\n",
    "#     if stop_signal_queue and not stop_signal_queue.empty():\n",
    "#         return\n",
    "#     else:\n",
    "    return reduce_func(results, len(indexes))\n",
    "\n",
    "def sum_array(indexes, stop_signal_queue):\n",
    "    if stop_signal_queue and not stop_signal_queue.empty():\n",
    "        return\n",
    "    firsttime = True\n",
    "    accumulator = None\n",
    "    # Prevent too many open file errors\n",
    "    for indx in indexes:\n",
    "        with h5py.File(ds.h5files[indx]) as f:\n",
    "            try:\n",
    "                img = np.array(f['image1']['image_data']).astype(np.float32)\n",
    "            except KeyError:\n",
    "                # Ignore when it doesn't have 'image1'\n",
    "                # TODO: Signal\n",
    "                return accumulator\n",
    "            # Set out of range to 0\n",
    "            img[img==255] = 0\n",
    "            # Cutoff at 60\n",
    "            img[img<60] = 0\n",
    "            if firsttime:\n",
    "                firsttime = False\n",
    "                accumulator = img\n",
    "            else:\n",
    "                accumulator += img\n",
    "    return accumulator\n",
    "\n",
    "def reduce_func(iterator, l):\n",
    "    # Mean\n",
    "    return np.sum(iterator, axis=0) / l\n",
    "\n",
    "# TODO: Make interrupt handling work, then put in utils\n",
    "\n",
    "# Handling of ctrl-c doesn't work yet, not sure where the problem lies\n",
    "# Approach seems to be ok\n",
    "try:\n",
    "    manager = multiprocessing.Manager()\n",
    "    stop_signal = manager.Queue()\n",
    "    accumulator2 = map_reduce(range(400000), sum_array, reduce_func,\n",
    "                             n_workers=8, chunk_size=10000,\n",
    "                             stop_signal_queue=stop_signal)\n",
    "except KeyboardInterrupt:\n",
    "    print(\"Stopping...\")\n",
    "    stop_signal.put(1)\n",
    "\n",
    "print(accumulator2)"
   ]
  },
  {
   "cell_type": "code",
   "execution_count": 8,
   "metadata": {},
   "outputs": [
    {
     "ename": "NameError",
     "evalue": "name 'accumulator2' is not defined",
     "output_type": "error",
     "traceback": [
      "\u001b[0;31m---------------------------------------------------------------------------\u001b[0m",
      "\u001b[0;31mNameError\u001b[0m                                 Traceback (most recent call last)",
      "\u001b[0;32m<ipython-input-8-ff72dbab340d>\u001b[0m in \u001b[0;36m<module>\u001b[0;34m()\u001b[0m\n\u001b[1;32m     34\u001b[0m \u001b[0mlats\u001b[0m \u001b[0;34m=\u001b[0m \u001b[0mnp\u001b[0m\u001b[0;34m.\u001b[0m\u001b[0mlinspace\u001b[0m\u001b[0;34m(\u001b[0m\u001b[0mext_stere\u001b[0m\u001b[0;34m[\u001b[0m\u001b[0;36m2\u001b[0m\u001b[0;34m]\u001b[0m\u001b[0;34m,\u001b[0m \u001b[0mext_stere\u001b[0m\u001b[0;34m[\u001b[0m\u001b[0;36m3\u001b[0m\u001b[0;34m]\u001b[0m\u001b[0;34m,\u001b[0m \u001b[0;36m766\u001b[0m\u001b[0;34m)\u001b[0m\u001b[0;34m\u001b[0m\u001b[0m\n\u001b[1;32m     35\u001b[0m \u001b[0;34m\u001b[0m\u001b[0m\n\u001b[0;32m---> 36\u001b[0;31m \u001b[0mcmesh\u001b[0m \u001b[0;34m=\u001b[0m \u001b[0max\u001b[0m\u001b[0;34m.\u001b[0m\u001b[0mpcolormesh\u001b[0m\u001b[0;34m(\u001b[0m\u001b[0mlons\u001b[0m\u001b[0;34m,\u001b[0m \u001b[0mlats\u001b[0m\u001b[0;34m,\u001b[0m \u001b[0maccumulator2\u001b[0m\u001b[0;34m[\u001b[0m\u001b[0;34m:\u001b[0m\u001b[0;34m:\u001b[0m\u001b[0;34m-\u001b[0m\u001b[0;36m1\u001b[0m\u001b[0;34m,\u001b[0m\u001b[0;34m:\u001b[0m\u001b[0;34m]\u001b[0m\u001b[0;34m)\u001b[0m\u001b[0;31m#np.array(ds[0]['image1']['image_data']))\u001b[0m\u001b[0;34m\u001b[0m\u001b[0m\n\u001b[0m\u001b[1;32m     37\u001b[0m \u001b[0;34m\u001b[0m\u001b[0m\n\u001b[1;32m     38\u001b[0m \u001b[0;31m# def animate(i):\u001b[0m\u001b[0;34m\u001b[0m\u001b[0;34m\u001b[0m\u001b[0m\n",
      "\u001b[0;31mNameError\u001b[0m: name 'accumulator2' is not defined"
     ]
    },
    {
     "data": {
      "image/png": "[encoded data removed]",
      "text/plain": [
       "<matplotlib.figure.Figure at 0x7fbeeddd8828>"
      ]
     },
     "metadata": {},
     "output_type": "display_data"
    }
   ],
   "source": [
    "# TODO: Clean up rendering, use properties in h5 file,\n",
    "#       then put in plotting module\n",
    "\n",
    "from matplotlib import animation, rc\n",
    "from IPython.display import HTML\n",
    "\n",
    "#!conda install -c conda-forge cartopy\n",
    "import cartopy.crs as ccrs\n",
    "import cartopy.feature\n",
    "\n",
    "stere_nl = ccrs.Stereographic(central_latitude=90, true_scale_latitude=60)\n",
    "stere_nl.proj4_params\n",
    "\n",
    "'+proj=stere +lat_0=90 +lon_0=0 +lat_ts=60 +a=6378.14 +b=6356.75 +x_0=0 y_0=0'\n",
    "# 0.0, 49.36206, 0.0, 55.973602, 10.856429, 55.388973, 9.00928, 48.8953\n",
    "bbox = np.array([[  0.      ,  49.36206 ],\n",
    "                 [  0.      ,  55.973602],\n",
    "                 [ 10.856429,  55.388973],\n",
    "                 [  9.00928 ,  48.8953  ]])\n",
    "\n",
    "bbox_stere = stere_nl.transform_points(ccrs.PlateCarree(), bbox.T[0], bbox.T[1])[:,:2]\n",
    "\n",
    "proj_pc = ccrs.PlateCarree()\n",
    "\n",
    "fig = plt.figure(figsize=(24,24))\n",
    "\n",
    "ax = plt.axes(projection=stere_nl)\n",
    "\n",
    "ext = (bbox[:,0].min(), bbox[:,0].max(), bbox[:,1].min(), bbox[:,1].max())\n",
    "\n",
    "ext_stere = (0, 700000, -4415000, -3650000)\n",
    "\n",
    "ax.set_extent(ext_stere, crs=stere_nl)\n",
    "\n",
    "# We need one extra, not sure why\n",
    "lons = np.linspace(ext_stere[0], ext_stere[1], 701)\n",
    "lats = np.linspace(ext_stere[2], ext_stere[3], 766)\n",
    "\n",
    "cmesh = ax.pcolormesh(lons, lats, accumulator2[::-1,:])#np.array(ds[0]['image1']['image_data']))\n",
    "\n",
    "# def animate(i):\n",
    "#     arr = np.array(ds[-400+i*12]['image1']['image_data'])\n",
    "# #     cmesh = ax.pcolormesh(lons, lats, arr)\n",
    "#     cmesh.set_array(arr.ravel())\n",
    "#     return cmesh.findobj()\n",
    "\n",
    "# Add high-res coastline\n",
    "ax.coastlines('10m', color='white')\n",
    "# Add high-res border\n",
    "ax.add_feature(cartopy.feature.NaturalEarthFeature('cultural', 'admin_0_boundary_lines_land', '10m'),\n",
    "               edgecolor='white', facecolor='none')\n",
    "ax.gridlines(crs=stere_nl)\n",
    "# plt.show()\n",
    "\n",
    "\n",
    "\n",
    "# anim = animation.FuncAnimation(fig, animate,\n",
    "#                                frames=300, interval=200, blit=True)\n",
    "\n",
    "# Nice slice would be radar[250:550,200:500]\n",
    "\n",
    "# HTML(anim.to_html5_video())"
   ]
  },
  {
   "cell_type": "code",
   "execution_count": 38,
   "metadata": {},
   "outputs": [
    {
     "name": "stdout",
     "output_type": "stream",
     "text": [
      "230 login accepted\n",
      "Found 295 predictions from 2017/11/27/RAD_NL25_PCP_FM_1745.h5 to 2017/11/27/RAD_NL25_PCP_FM_1750.h5\n",
      "230 login accepted\n"
     ]
    },
    {
     "data": {
      "application/vnd.jupyter.widget-view+json": {
       "model_id": "1e7ebfd6e1244bb6828419820c0bddae",
       "version_major": 2,
       "version_minor": 0
      },
      "text/plain": [
       "A Jupyter Widget"
      ]
     },
     "metadata": {},
     "output_type": "display_data"
    },
    {
     "name": "stdout",
     "output_type": "stream",
     "text": [
      "\n"
     ]
    }
   ],
   "source": [
    "with FTP('data.knmi.nl', timeout=10) as ftp:\n",
    "    print(ftp.login())\n",
    "    # Only data of last 24 hours is stored here\n",
    "    most_recent_year = sorted(ftp.nlst('/download/radar_forecast/1.0/noversion/'))[-1]\n",
    "    most_recent_month = sorted(ftp.nlst(most_recent_year))[-1]\n",
    "    # These 24 hours are usually divided over 2 days except when the clock strikes midnight\n",
    "    days = sorted(ftp.nlst(most_recent_month))\n",
    "    predictions = []\n",
    "    for day in days:\n",
    "        # Use extend cause ftp.nlst returns array of arrays\n",
    "        predictions.extend(ftp.nlst(day))\n",
    "    # Split limited number of times to show the year/month/day folders\n",
    "    print(\"Found {} predictions from {} to {}\".format(\n",
    "        len(predictions),\n",
    "        predictions[0].split('/',5)[-1],\n",
    "        predictions[1].split('/',5)[-1]))\n",
    "\n",
    "    # Download last day of predictions\n",
    "    for ftp_url in tqdm_notebook(predictions, desc=\"Downloading files\", unit=\"file\"):\n",
    "        utils.download_cache_ftp(utils.RADAR_FORECAST_REFL_COMP_DIR, ftp, ftp_url, verbose=False)"
   ]
  },
  {
   "cell_type": "code",
   "execution_count": 7,
   "metadata": {},
   "outputs": [
    {
     "ename": "OSError",
     "evalue": "Unable to create file (unable to open file: name = '/home/ubuntu/nowcasting-convrnn/data/radar_forecast_refl_comp/RAD_NL25_PCP_FM_0000.h5', errno = 17, error message = 'File exists', flags = 15, o_flags = c2)",
     "output_type": "error",
     "traceback": [
      "\u001b[0;31m---------------------------------------------------------------------------\u001b[0m",
      "\u001b[0;31mOSError\u001b[0m                                   Traceback (most recent call last)",
      "\u001b[0;32m~/src/anaconda3/envs/main/lib/python3.6/site-packages/h5py/_hl/files.py\u001b[0m in \u001b[0;36mmake_fid\u001b[0;34m(name, mode, userblock_size, fapl, fcpl, swmr)\u001b[0m\n\u001b[1;32m    118\u001b[0m         \u001b[0;32mtry\u001b[0m\u001b[0;34m:\u001b[0m\u001b[0;34m\u001b[0m\u001b[0m\n\u001b[0;32m--> 119\u001b[0;31m             \u001b[0mfid\u001b[0m \u001b[0;34m=\u001b[0m \u001b[0mh5f\u001b[0m\u001b[0;34m.\u001b[0m\u001b[0mopen\u001b[0m\u001b[0;34m(\u001b[0m\u001b[0mname\u001b[0m\u001b[0;34m,\u001b[0m \u001b[0mh5f\u001b[0m\u001b[0;34m.\u001b[0m\u001b[0mACC_RDWR\u001b[0m\u001b[0;34m,\u001b[0m \u001b[0mfapl\u001b[0m\u001b[0;34m=\u001b[0m\u001b[0mfapl\u001b[0m\u001b[0;34m)\u001b[0m\u001b[0;34m\u001b[0m\u001b[0m\n\u001b[0m\u001b[1;32m    120\u001b[0m         \u001b[0;32mexcept\u001b[0m \u001b[0mIOError\u001b[0m\u001b[0;34m:\u001b[0m\u001b[0;34m\u001b[0m\u001b[0m\n",
      "\u001b[0;32mh5py/_objects.pyx\u001b[0m in \u001b[0;36mh5py._objects.with_phil.wrapper\u001b[0;34m()\u001b[0m\n",
      "\u001b[0;32mh5py/_objects.pyx\u001b[0m in \u001b[0;36mh5py._objects.with_phil.wrapper\u001b[0;34m()\u001b[0m\n",
      "\u001b[0;32mh5py/h5f.pyx\u001b[0m in \u001b[0;36mh5py.h5f.open\u001b[0;34m()\u001b[0m\n",
      "\u001b[0;31mOSError\u001b[0m: Unable to open file (unable to lock file, errno = 11, error message = 'Resource temporarily unavailable')",
      "\nDuring handling of the above exception, another exception occurred:\n",
      "\u001b[0;31mOSError\u001b[0m                                   Traceback (most recent call last)",
      "\u001b[0;32m~/src/anaconda3/envs/main/lib/python3.6/site-packages/h5py/_hl/files.py\u001b[0m in \u001b[0;36mmake_fid\u001b[0;34m(name, mode, userblock_size, fapl, fcpl, swmr)\u001b[0m\n\u001b[1;32m    121\u001b[0m             \u001b[0;32mtry\u001b[0m\u001b[0;34m:\u001b[0m\u001b[0;34m\u001b[0m\u001b[0m\n\u001b[0;32m--> 122\u001b[0;31m                 \u001b[0mfid\u001b[0m \u001b[0;34m=\u001b[0m \u001b[0mh5f\u001b[0m\u001b[0;34m.\u001b[0m\u001b[0mopen\u001b[0m\u001b[0;34m(\u001b[0m\u001b[0mname\u001b[0m\u001b[0;34m,\u001b[0m \u001b[0mh5f\u001b[0m\u001b[0;34m.\u001b[0m\u001b[0mACC_RDONLY\u001b[0m\u001b[0;34m,\u001b[0m \u001b[0mfapl\u001b[0m\u001b[0;34m=\u001b[0m\u001b[0mfapl\u001b[0m\u001b[0;34m)\u001b[0m\u001b[0;34m\u001b[0m\u001b[0m\n\u001b[0m\u001b[1;32m    123\u001b[0m             \u001b[0;32mexcept\u001b[0m \u001b[0mIOError\u001b[0m\u001b[0;34m:\u001b[0m\u001b[0;34m\u001b[0m\u001b[0m\n",
      "\u001b[0;32mh5py/_objects.pyx\u001b[0m in \u001b[0;36mh5py._objects.with_phil.wrapper\u001b[0;34m()\u001b[0m\n",
      "\u001b[0;32mh5py/_objects.pyx\u001b[0m in \u001b[0;36mh5py._objects.with_phil.wrapper\u001b[0;34m()\u001b[0m\n",
      "\u001b[0;32mh5py/h5f.pyx\u001b[0m in \u001b[0;36mh5py.h5f.open\u001b[0;34m()\u001b[0m\n",
      "\u001b[0;31mOSError\u001b[0m: Unable to open file (unable to lock file, errno = 11, error message = 'Resource temporarily unavailable')",
      "\nDuring handling of the above exception, another exception occurred:\n",
      "\u001b[0;31mOSError\u001b[0m                                   Traceback (most recent call last)",
      "\u001b[0;32m<ipython-input-7-81d9d6fc9837>\u001b[0m in \u001b[0;36m<module>\u001b[0;34m()\u001b[0m\n\u001b[1;32m      2\u001b[0m \u001b[0mhfs\u001b[0m \u001b[0;34m=\u001b[0m \u001b[0;34m[\u001b[0m\u001b[0;34m]\u001b[0m\u001b[0;34m\u001b[0m\u001b[0m\n\u001b[1;32m      3\u001b[0m \u001b[0;32mfor\u001b[0m \u001b[0mp\u001b[0m \u001b[0;32min\u001b[0m \u001b[0mpredh5s\u001b[0m\u001b[0;34m:\u001b[0m\u001b[0;34m\u001b[0m\u001b[0m\n\u001b[0;32m----> 4\u001b[0;31m     \u001b[0mhf\u001b[0m \u001b[0;34m=\u001b[0m \u001b[0mh5py\u001b[0m\u001b[0;34m.\u001b[0m\u001b[0mFile\u001b[0m\u001b[0;34m(\u001b[0m\u001b[0mp\u001b[0m\u001b[0;34m)\u001b[0m\u001b[0;34m\u001b[0m\u001b[0m\n\u001b[0m\u001b[1;32m      5\u001b[0m     \u001b[0mhfs\u001b[0m\u001b[0;34m.\u001b[0m\u001b[0mappend\u001b[0m\u001b[0;34m(\u001b[0m\u001b[0mhf\u001b[0m\u001b[0;34m)\u001b[0m\u001b[0;34m\u001b[0m\u001b[0m\n",
      "\u001b[0;32m~/src/anaconda3/envs/main/lib/python3.6/site-packages/h5py/_hl/files.py\u001b[0m in \u001b[0;36m__init__\u001b[0;34m(self, name, mode, driver, libver, userblock_size, swmr, **kwds)\u001b[0m\n\u001b[1;32m    267\u001b[0m             \u001b[0;32mwith\u001b[0m \u001b[0mphil\u001b[0m\u001b[0;34m:\u001b[0m\u001b[0;34m\u001b[0m\u001b[0m\n\u001b[1;32m    268\u001b[0m                 \u001b[0mfapl\u001b[0m \u001b[0;34m=\u001b[0m \u001b[0mmake_fapl\u001b[0m\u001b[0;34m(\u001b[0m\u001b[0mdriver\u001b[0m\u001b[0;34m,\u001b[0m \u001b[0mlibver\u001b[0m\u001b[0;34m,\u001b[0m \u001b[0;34m**\u001b[0m\u001b[0mkwds\u001b[0m\u001b[0;34m)\u001b[0m\u001b[0;34m\u001b[0m\u001b[0m\n\u001b[0;32m--> 269\u001b[0;31m                 \u001b[0mfid\u001b[0m \u001b[0;34m=\u001b[0m \u001b[0mmake_fid\u001b[0m\u001b[0;34m(\u001b[0m\u001b[0mname\u001b[0m\u001b[0;34m,\u001b[0m \u001b[0mmode\u001b[0m\u001b[0;34m,\u001b[0m \u001b[0muserblock_size\u001b[0m\u001b[0;34m,\u001b[0m \u001b[0mfapl\u001b[0m\u001b[0;34m,\u001b[0m \u001b[0mswmr\u001b[0m\u001b[0;34m=\u001b[0m\u001b[0mswmr\u001b[0m\u001b[0;34m)\u001b[0m\u001b[0;34m\u001b[0m\u001b[0m\n\u001b[0m\u001b[1;32m    270\u001b[0m \u001b[0;34m\u001b[0m\u001b[0m\n\u001b[1;32m    271\u001b[0m                 \u001b[0;32mif\u001b[0m \u001b[0mswmr_support\u001b[0m\u001b[0;34m:\u001b[0m\u001b[0;34m\u001b[0m\u001b[0m\n",
      "\u001b[0;32m~/src/anaconda3/envs/main/lib/python3.6/site-packages/h5py/_hl/files.py\u001b[0m in \u001b[0;36mmake_fid\u001b[0;34m(name, mode, userblock_size, fapl, fcpl, swmr)\u001b[0m\n\u001b[1;32m    122\u001b[0m                 \u001b[0mfid\u001b[0m \u001b[0;34m=\u001b[0m \u001b[0mh5f\u001b[0m\u001b[0;34m.\u001b[0m\u001b[0mopen\u001b[0m\u001b[0;34m(\u001b[0m\u001b[0mname\u001b[0m\u001b[0;34m,\u001b[0m \u001b[0mh5f\u001b[0m\u001b[0;34m.\u001b[0m\u001b[0mACC_RDONLY\u001b[0m\u001b[0;34m,\u001b[0m \u001b[0mfapl\u001b[0m\u001b[0;34m=\u001b[0m\u001b[0mfapl\u001b[0m\u001b[0;34m)\u001b[0m\u001b[0;34m\u001b[0m\u001b[0m\n\u001b[1;32m    123\u001b[0m             \u001b[0;32mexcept\u001b[0m \u001b[0mIOError\u001b[0m\u001b[0;34m:\u001b[0m\u001b[0;34m\u001b[0m\u001b[0m\n\u001b[0;32m--> 124\u001b[0;31m                 \u001b[0mfid\u001b[0m \u001b[0;34m=\u001b[0m \u001b[0mh5f\u001b[0m\u001b[0;34m.\u001b[0m\u001b[0mcreate\u001b[0m\u001b[0;34m(\u001b[0m\u001b[0mname\u001b[0m\u001b[0;34m,\u001b[0m \u001b[0mh5f\u001b[0m\u001b[0;34m.\u001b[0m\u001b[0mACC_EXCL\u001b[0m\u001b[0;34m,\u001b[0m \u001b[0mfapl\u001b[0m\u001b[0;34m=\u001b[0m\u001b[0mfapl\u001b[0m\u001b[0;34m,\u001b[0m \u001b[0mfcpl\u001b[0m\u001b[0;34m=\u001b[0m\u001b[0mfcpl\u001b[0m\u001b[0;34m)\u001b[0m\u001b[0;34m\u001b[0m\u001b[0m\n\u001b[0m\u001b[1;32m    125\u001b[0m     \u001b[0;32melse\u001b[0m\u001b[0;34m:\u001b[0m\u001b[0;34m\u001b[0m\u001b[0m\n\u001b[1;32m    126\u001b[0m         \u001b[0;32mraise\u001b[0m \u001b[0mValueError\u001b[0m\u001b[0;34m(\u001b[0m\u001b[0;34m\"Invalid mode; must be one of r, r+, w, w-, x, a\"\u001b[0m\u001b[0;34m)\u001b[0m\u001b[0;34m\u001b[0m\u001b[0m\n",
      "\u001b[0;32mh5py/_objects.pyx\u001b[0m in \u001b[0;36mh5py._objects.with_phil.wrapper\u001b[0;34m()\u001b[0m\n",
      "\u001b[0;32mh5py/_objects.pyx\u001b[0m in \u001b[0;36mh5py._objects.with_phil.wrapper\u001b[0;34m()\u001b[0m\n",
      "\u001b[0;32mh5py/h5f.pyx\u001b[0m in \u001b[0;36mh5py.h5f.create\u001b[0;34m()\u001b[0m\n",
      "\u001b[0;31mOSError\u001b[0m: Unable to create file (unable to open file: name = '/home/ubuntu/nowcasting-convrnn/data/radar_forecast_refl_comp/RAD_NL25_PCP_FM_0000.h5', errno = 17, error message = 'File exists', flags = 15, o_flags = c2)"
     ]
    }
   ],
   "source": [
    "predh5s = sorted(glob.glob(os.path.join(utils.RADAR_FORECAST_REFL_COMP_DIR, '*.h5')))\n",
    "hfs = []\n",
    "for p in predh5s:\n",
    "    hf = h5py.File(p)\n",
    "    hfs.append(hf)"
   ]
  },
  {
   "cell_type": "code",
   "execution_count": 52,
   "metadata": {},
   "outputs": [],
   "source": [
    "img_data = []\n",
    "\n",
    "def get_img_data(name, obj):\n",
    "    m = re.match('^image(\\d+)/image_data', name)\n",
    "    if m:\n",
    "        i = int(m.groups()[0])\n",
    "        img_data.append([i, np.array(obj)])\n",
    "\n",
    "hfs[0].visititems(get_img_data)\n",
    "\n",
    "# They might have been visited in arbitrary order\n",
    "img_data = [d for i,d in sorted(img_data, key=lambda o: o[0])]"
   ]
  },
  {
   "cell_type": "code",
   "execution_count": 100,
   "metadata": {},
   "outputs": [
    {
     "data": {
      "image/png": "[encoded data removed]",
      "text/plain": [
       "<matplotlib.figure.Figure at 0x7f2f913ebb00>"
      ]
     },
     "metadata": {},
     "output_type": "display_data"
    }
   ],
   "source": [
    "# 60 cutoff\n",
    "plt.hist(img_data[0][img_data[0]>0].flatten(), bins=255//4, range=(0,255));"
   ]
  },
  {
   "cell_type": "code",
   "execution_count": 101,
   "metadata": {},
   "outputs": [
    {
     "data": {
      "image/png": "[encoded data removed]",
      "text/plain": [
       "<matplotlib.figure.Figure at 0x7f2f98f1a240>"
      ]
     },
     "metadata": {},
     "output_type": "display_data"
    }
   ],
   "source": [
    "a = np.array(ds[0]['image1/image_data'])\n",
    "plt.hist(a[(a>0)&(a<255)].flatten(), bins=255//4, range=(0,255));"
   ]
  },
  {
   "cell_type": "code",
   "execution_count": 102,
   "metadata": {},
   "outputs": [
    {
     "data": {
      "text/plain": [
       "60"
      ]
     },
     "execution_count": 102,
     "metadata": {},
     "output_type": "execute_result"
    }
   ],
   "source": [
    "img_data[0][img_data[0]>0].flatten().min()"
   ]
  },
  {
   "cell_type": "code",
   "execution_count": 103,
   "metadata": {},
   "outputs": [
    {
     "data": {
      "text/plain": [
       "-2.0"
      ]
     },
     "execution_count": 103,
     "metadata": {},
     "output_type": "execute_result"
    }
   ],
   "source": [
    "pv = 60\n",
    ".5 * pv + -32"
   ]
  },
  {
   "cell_type": "code",
   "execution_count": 63,
   "metadata": {},
   "outputs": [
    {
     "name": "stdout",
     "output_type": "stream",
     "text": [
      "geographic\n",
      "\t<HDF5 group \"/geographic\" (1 members)>\n",
      "\t\tgeo_par_pixel: b'X,Y'\n",
      "\t\tgeo_dim_pixel: b'KM,KM'\n",
      "\t\tgeo_pixel_def: b'LU'\n",
      "\t\tgeo_number_columns: [700]\n",
      "\t\tgeo_number_rows: [765]\n",
      "\t\tgeo_pixel_size_x: [ 1.00000346]\n",
      "\t\tgeo_pixel_size_y: [-1.00000477]\n",
      "\t\tgeo_column_offset: [ 0.]\n",
      "\t\tgeo_row_offset: [ 3649.98193359]\n",
      "\t\tgeo_product_corners: [  0.          49.36206436   0.          55.97360229  10.85645294\n",
      "  55.38897324   9.00930023  48.89530182]\n",
      "geographic/map_projection\n",
      "\t<HDF5 group \"/geographic/map_projection\" (0 members)>\n",
      "\t\tprojection_indication: b'Y'\n",
      "\t\tprojection_name: b'STEREOGRAPHIC'\n",
      "\t\tprojection_proj4_params: b'+proj=stere +lat_0=90 +lon_0=0 +lat_ts=60 +a=6378.14 +b=6356.75 +x_0=0 y_0=0'\n",
      "image1\n",
      "\t<HDF5 group \"/image1\" (3 members)>\n",
      "\t\timage_geo_parameter: b'REFLECTIVITY_[DBZ]'\n",
      "\t\timage_size: [535500]\n",
      "\t\timage_bytes_per_pixel: [1]\n",
      "\t\timage_cloud_mask_applied: b'1'\n",
      "\t\timage_product_name: [b'RAD_NL25_PCP_H1.5_FM']\n",
      "\t\timage_datetime_valid: [b'28-NOV-2017;00:00:00.000']\n",
      "image1/calibration\n",
      "\t<HDF5 group \"/image1/calibration\" (0 members)>\n",
      "\t\tcalibration_flag: b'Y'\n",
      "\t\tcalibration_formulas: b'GEO = 0.500000 * PV + -32.000000'\n",
      "\t\tcalibration_missing_data: [0]\n",
      "\t\tcalibration_out_of_image: [255]\n",
      "image1/image_data\n",
      "\t<HDF5 dataset \"image_data\": shape (765, 700), type \"|u1\">\n",
      "\t\tCLASS: [b'IMAGE']\n",
      "\t\tVERSION: [b'1.2']\n",
      "image1/statistics\n",
      "\t<HDF5 group \"/image1/statistics\" (0 members)>\n",
      "\t\tstat_min_value: [-31.5]\n",
      "\t\tstat_max_value: [ 30.]\n",
      "image10\n",
      "\t<HDF5 group \"/image10\" (1 members)>\n",
      "\t\timage_bytes_per_pixel: [1]\n",
      "\t\timage_datetime_valid: [b'28-NOV-2017;00:45:00.000']\n",
      "\t\timage_cloud_mask_applied: [b'1']\n",
      "\t\timage_geo_parameter: [b'REFLECTIVITY_[DBZ]']\n",
      "\t\timage_product_name: [b'RAD_NL25_PCP_H1.5_FM']\n",
      "\t\timage_size: [535500]\n",
      "image10/image_data\n",
      "\t<HDF5 dataset \"image_data\": shape (765, 700), type \"|u1\">\n",
      "\t\tCLASS: [b'IMAGE']\n",
      "\t\tVERSION: [b'1.2']\n",
      "image11\n",
      "\t<HDF5 group \"/image11\" (1 members)>\n",
      "\t\timage_bytes_per_pixel: [1]\n",
      "\t\timage_datetime_valid: [b'28-NOV-2017;00:50:00.000']\n",
      "\t\timage_cloud_mask_applied: [b'1']\n",
      "\t\timage_geo_parameter: [b'REFLECTIVITY_[DBZ]']\n",
      "\t\timage_product_name: [b'RAD_NL25_PCP_H1.5_FM']\n",
      "\t\timage_size: [535500]\n",
      "image11/image_data\n",
      "\t<HDF5 dataset \"image_data\": shape (765, 700), type \"|u1\">\n",
      "\t\tCLASS: [b'IMAGE']\n",
      "\t\tVERSION: [b'1.2']\n",
      "image12\n",
      "\t<HDF5 group \"/image12\" (1 members)>\n",
      "\t\timage_bytes_per_pixel: [1]\n",
      "\t\timage_datetime_valid: [b'28-NOV-2017;00:55:00.000']\n",
      "\t\timage_cloud_mask_applied: [b'1']\n",
      "\t\timage_geo_parameter: [b'REFLECTIVITY_[DBZ]']\n",
      "\t\timage_product_name: [b'RAD_NL25_PCP_H1.5_FM']\n",
      "\t\timage_size: [535500]\n",
      "image12/image_data\n",
      "\t<HDF5 dataset \"image_data\": shape (765, 700), type \"|u1\">\n",
      "\t\tCLASS: [b'IMAGE']\n",
      "\t\tVERSION: [b'1.2']\n",
      "image13\n",
      "\t<HDF5 group \"/image13\" (1 members)>\n",
      "\t\timage_bytes_per_pixel: [1]\n",
      "\t\timage_datetime_valid: [b'28-NOV-2017;01:00:00.000']\n",
      "\t\timage_cloud_mask_applied: [b'1']\n",
      "\t\timage_geo_parameter: [b'REFLECTIVITY_[DBZ]']\n",
      "\t\timage_product_name: [b'RAD_NL25_PCP_H1.5_FM']\n",
      "\t\timage_size: [535500]\n",
      "image13/image_data\n",
      "\t<HDF5 dataset \"image_data\": shape (765, 700), type \"|u1\">\n",
      "\t\tCLASS: [b'IMAGE']\n",
      "\t\tVERSION: [b'1.2']\n",
      "image14\n",
      "\t<HDF5 group \"/image14\" (1 members)>\n",
      "\t\timage_bytes_per_pixel: [1]\n",
      "\t\timage_datetime_valid: [b'28-NOV-2017;01:05:00.000']\n",
      "\t\timage_cloud_mask_applied: [b'1']\n",
      "\t\timage_geo_parameter: [b'REFLECTIVITY_[DBZ]']\n",
      "\t\timage_product_name: [b'RAD_NL25_PCP_H1.5_FM']\n",
      "\t\timage_size: [535500]\n",
      "image14/image_data\n",
      "\t<HDF5 dataset \"image_data\": shape (765, 700), type \"|u1\">\n",
      "\t\tCLASS: [b'IMAGE']\n",
      "\t\tVERSION: [b'1.2']\n",
      "image15\n",
      "\t<HDF5 group \"/image15\" (1 members)>\n",
      "\t\timage_bytes_per_pixel: [1]\n",
      "\t\timage_datetime_valid: [b'28-NOV-2017;01:10:00.000']\n",
      "\t\timage_cloud_mask_applied: [b'1']\n",
      "\t\timage_geo_parameter: [b'REFLECTIVITY_[DBZ]']\n",
      "\t\timage_product_name: [b'RAD_NL25_PCP_H1.5_FM']\n",
      "\t\timage_size: [535500]\n",
      "image15/image_data\n",
      "\t<HDF5 dataset \"image_data\": shape (765, 700), type \"|u1\">\n",
      "\t\tCLASS: [b'IMAGE']\n",
      "\t\tVERSION: [b'1.2']\n",
      "image16\n",
      "\t<HDF5 group \"/image16\" (1 members)>\n",
      "\t\timage_bytes_per_pixel: [1]\n",
      "\t\timage_datetime_valid: [b'28-NOV-2017;01:15:00.000']\n",
      "\t\timage_cloud_mask_applied: [b'1']\n",
      "\t\timage_geo_parameter: [b'REFLECTIVITY_[DBZ]']\n",
      "\t\timage_product_name: [b'RAD_NL25_PCP_H1.5_FM']\n",
      "\t\timage_size: [535500]\n",
      "image16/image_data\n",
      "\t<HDF5 dataset \"image_data\": shape (765, 700), type \"|u1\">\n",
      "\t\tCLASS: [b'IMAGE']\n",
      "\t\tVERSION: [b'1.2']\n",
      "image17\n",
      "\t<HDF5 group \"/image17\" (1 members)>\n",
      "\t\timage_bytes_per_pixel: [1]\n",
      "\t\timage_datetime_valid: [b'28-NOV-2017;01:20:00.000']\n",
      "\t\timage_cloud_mask_applied: [b'1']\n",
      "\t\timage_geo_parameter: [b'REFLECTIVITY_[DBZ]']\n",
      "\t\timage_product_name: [b'RAD_NL25_PCP_H1.5_FM']\n",
      "\t\timage_size: [535500]\n",
      "image17/image_data\n",
      "\t<HDF5 dataset \"image_data\": shape (765, 700), type \"|u1\">\n",
      "\t\tCLASS: [b'IMAGE']\n",
      "\t\tVERSION: [b'1.2']\n",
      "image18\n",
      "\t<HDF5 group \"/image18\" (1 members)>\n",
      "\t\timage_bytes_per_pixel: [1]\n",
      "\t\timage_datetime_valid: [b'28-NOV-2017;01:25:00.000']\n",
      "\t\timage_cloud_mask_applied: [b'1']\n",
      "\t\timage_geo_parameter: [b'REFLECTIVITY_[DBZ]']\n",
      "\t\timage_product_name: [b'RAD_NL25_PCP_H1.5_FM']\n",
      "\t\timage_size: [535500]\n",
      "image18/image_data\n",
      "\t<HDF5 dataset \"image_data\": shape (765, 700), type \"|u1\">\n",
      "\t\tCLASS: [b'IMAGE']\n",
      "\t\tVERSION: [b'1.2']\n",
      "image19\n",
      "\t<HDF5 group \"/image19\" (1 members)>\n",
      "\t\timage_bytes_per_pixel: [1]\n",
      "\t\timage_datetime_valid: [b'28-NOV-2017;01:30:00.000']\n",
      "\t\timage_cloud_mask_applied: [b'1']\n",
      "\t\timage_geo_parameter: [b'REFLECTIVITY_[DBZ]']\n",
      "\t\timage_product_name: [b'RAD_NL25_PCP_H1.5_FM']\n",
      "\t\timage_size: [535500]\n",
      "image19/image_data\n",
      "\t<HDF5 dataset \"image_data\": shape (765, 700), type \"|u1\">\n",
      "\t\tCLASS: [b'IMAGE']\n",
      "\t\tVERSION: [b'1.2']\n",
      "image2\n",
      "\t<HDF5 group \"/image2\" (1 members)>\n",
      "\t\timage_bytes_per_pixel: [1]\n",
      "\t\timage_datetime_valid: [b'28-NOV-2017;00:05:00.000']\n",
      "\t\timage_cloud_mask_applied: [b'1']\n",
      "\t\timage_geo_parameter: [b'REFLECTIVITY_[DBZ]']\n",
      "\t\timage_product_name: [b'RAD_NL25_PCP_H1.5_FM']\n",
      "\t\timage_size: [535500]\n",
      "image2/image_data\n",
      "\t<HDF5 dataset \"image_data\": shape (765, 700), type \"|u1\">\n",
      "\t\tCLASS: [b'IMAGE']\n",
      "\t\tVERSION: [b'1.2']\n",
      "image20\n",
      "\t<HDF5 group \"/image20\" (1 members)>\n",
      "\t\timage_bytes_per_pixel: [1]\n",
      "\t\timage_datetime_valid: [b'28-NOV-2017;01:35:00.000']\n",
      "\t\timage_cloud_mask_applied: [b'1']\n",
      "\t\timage_geo_parameter: [b'REFLECTIVITY_[DBZ]']\n",
      "\t\timage_product_name: [b'RAD_NL25_PCP_H1.5_FM']\n",
      "\t\timage_size: [535500]\n",
      "image20/image_data\n",
      "\t<HDF5 dataset \"image_data\": shape (765, 700), type \"|u1\">\n",
      "\t\tCLASS: [b'IMAGE']\n",
      "\t\tVERSION: [b'1.2']\n",
      "image21\n",
      "\t<HDF5 group \"/image21\" (1 members)>\n",
      "\t\timage_bytes_per_pixel: [1]\n",
      "\t\timage_datetime_valid: [b'28-NOV-2017;01:40:00.000']\n",
      "\t\timage_cloud_mask_applied: [b'1']\n",
      "\t\timage_geo_parameter: [b'REFLECTIVITY_[DBZ]']\n",
      "\t\timage_product_name: [b'RAD_NL25_PCP_H1.5_FM']\n",
      "\t\timage_size: [535500]\n",
      "image21/image_data\n",
      "\t<HDF5 dataset \"image_data\": shape (765, 700), type \"|u1\">\n",
      "\t\tCLASS: [b'IMAGE']\n",
      "\t\tVERSION: [b'1.2']\n",
      "image22\n",
      "\t<HDF5 group \"/image22\" (1 members)>\n",
      "\t\timage_bytes_per_pixel: [1]\n",
      "\t\timage_datetime_valid: [b'28-NOV-2017;01:45:00.000']\n",
      "\t\timage_cloud_mask_applied: [b'1']\n",
      "\t\timage_geo_parameter: [b'REFLECTIVITY_[DBZ]']\n",
      "\t\timage_product_name: [b'RAD_NL25_PCP_H1.5_FM']\n",
      "\t\timage_size: [535500]\n",
      "image22/image_data\n",
      "\t<HDF5 dataset \"image_data\": shape (765, 700), type \"|u1\">\n",
      "\t\tCLASS: [b'IMAGE']\n",
      "\t\tVERSION: [b'1.2']\n",
      "image23\n",
      "\t<HDF5 group \"/image23\" (1 members)>\n",
      "\t\timage_bytes_per_pixel: [1]\n",
      "\t\timage_datetime_valid: [b'28-NOV-2017;01:50:00.000']\n",
      "\t\timage_cloud_mask_applied: [b'1']\n",
      "\t\timage_geo_parameter: [b'REFLECTIVITY_[DBZ]']\n",
      "\t\timage_product_name: [b'RAD_NL25_PCP_H1.5_FM']\n",
      "\t\timage_size: [535500]\n",
      "image23/image_data\n",
      "\t<HDF5 dataset \"image_data\": shape (765, 700), type \"|u1\">\n",
      "\t\tCLASS: [b'IMAGE']\n",
      "\t\tVERSION: [b'1.2']\n",
      "image24\n",
      "\t<HDF5 group \"/image24\" (1 members)>\n",
      "\t\timage_bytes_per_pixel: [1]\n",
      "\t\timage_datetime_valid: [b'28-NOV-2017;01:55:00.000']\n",
      "\t\timage_cloud_mask_applied: [b'1']\n",
      "\t\timage_geo_parameter: [b'REFLECTIVITY_[DBZ]']\n",
      "\t\timage_product_name: [b'RAD_NL25_PCP_H1.5_FM']\n",
      "\t\timage_size: [535500]\n",
      "image24/image_data\n",
      "\t<HDF5 dataset \"image_data\": shape (765, 700), type \"|u1\">\n",
      "\t\tCLASS: [b'IMAGE']\n",
      "\t\tVERSION: [b'1.2']\n",
      "image25\n",
      "\t<HDF5 group \"/image25\" (1 members)>\n",
      "\t\timage_bytes_per_pixel: [1]\n",
      "\t\timage_datetime_valid: [b'28-NOV-2017;02:00:00.000']\n",
      "\t\timage_cloud_mask_applied: [b'1']\n",
      "\t\timage_geo_parameter: [b'REFLECTIVITY_[DBZ]']\n",
      "\t\timage_product_name: [b'RAD_NL25_PCP_H1.5_FM']\n",
      "\t\timage_size: [535500]\n",
      "image25/image_data\n",
      "\t<HDF5 dataset \"image_data\": shape (765, 700), type \"|u1\">\n",
      "\t\tCLASS: [b'IMAGE']\n",
      "\t\tVERSION: [b'1.2']\n",
      "image3\n",
      "\t<HDF5 group \"/image3\" (1 members)>\n",
      "\t\timage_bytes_per_pixel: [1]\n",
      "\t\timage_datetime_valid: [b'28-NOV-2017;00:10:00.000']\n",
      "\t\timage_cloud_mask_applied: [b'1']\n",
      "\t\timage_geo_parameter: [b'REFLECTIVITY_[DBZ]']\n",
      "\t\timage_product_name: [b'RAD_NL25_PCP_H1.5_FM']\n",
      "\t\timage_size: [535500]\n",
      "image3/image_data\n",
      "\t<HDF5 dataset \"image_data\": shape (765, 700), type \"|u1\">\n",
      "\t\tCLASS: [b'IMAGE']\n",
      "\t\tVERSION: [b'1.2']\n",
      "image4\n",
      "\t<HDF5 group \"/image4\" (1 members)>\n",
      "\t\timage_bytes_per_pixel: [1]\n",
      "\t\timage_datetime_valid: [b'28-NOV-2017;00:15:00.000']\n",
      "\t\timage_cloud_mask_applied: [b'1']\n",
      "\t\timage_geo_parameter: [b'REFLECTIVITY_[DBZ]']\n",
      "\t\timage_product_name: [b'RAD_NL25_PCP_H1.5_FM']\n",
      "\t\timage_size: [535500]\n",
      "image4/image_data\n",
      "\t<HDF5 dataset \"image_data\": shape (765, 700), type \"|u1\">\n",
      "\t\tCLASS: [b'IMAGE']\n",
      "\t\tVERSION: [b'1.2']\n",
      "image5\n",
      "\t<HDF5 group \"/image5\" (1 members)>\n",
      "\t\timage_bytes_per_pixel: [1]\n",
      "\t\timage_datetime_valid: [b'28-NOV-2017;00:20:00.000']\n",
      "\t\timage_cloud_mask_applied: [b'1']\n",
      "\t\timage_geo_parameter: [b'REFLECTIVITY_[DBZ]']\n",
      "\t\timage_product_name: [b'RAD_NL25_PCP_H1.5_FM']\n",
      "\t\timage_size: [535500]\n",
      "image5/image_data\n",
      "\t<HDF5 dataset \"image_data\": shape (765, 700), type \"|u1\">\n",
      "\t\tCLASS: [b'IMAGE']\n",
      "\t\tVERSION: [b'1.2']\n",
      "image6\n",
      "\t<HDF5 group \"/image6\" (1 members)>\n",
      "\t\timage_bytes_per_pixel: [1]\n",
      "\t\timage_datetime_valid: [b'28-NOV-2017;00:25:00.000']\n",
      "\t\timage_cloud_mask_applied: [b'1']\n",
      "\t\timage_geo_parameter: [b'REFLECTIVITY_[DBZ]']\n",
      "\t\timage_product_name: [b'RAD_NL25_PCP_H1.5_FM']\n",
      "\t\timage_size: [535500]\n",
      "image6/image_data\n",
      "\t<HDF5 dataset \"image_data\": shape (765, 700), type \"|u1\">\n",
      "\t\tCLASS: [b'IMAGE']\n",
      "\t\tVERSION: [b'1.2']\n",
      "image7\n",
      "\t<HDF5 group \"/image7\" (1 members)>\n",
      "\t\timage_bytes_per_pixel: [1]\n",
      "\t\timage_datetime_valid: [b'28-NOV-2017;00:30:00.000']\n",
      "\t\timage_cloud_mask_applied: [b'1']\n",
      "\t\timage_geo_parameter: [b'REFLECTIVITY_[DBZ]']\n",
      "\t\timage_product_name: [b'RAD_NL25_PCP_H1.5_FM']\n",
      "\t\timage_size: [535500]\n",
      "image7/image_data\n",
      "\t<HDF5 dataset \"image_data\": shape (765, 700), type \"|u1\">\n",
      "\t\tCLASS: [b'IMAGE']\n",
      "\t\tVERSION: [b'1.2']\n",
      "image8\n",
      "\t<HDF5 group \"/image8\" (1 members)>\n",
      "\t\timage_bytes_per_pixel: [1]\n",
      "\t\timage_datetime_valid: [b'28-NOV-2017;00:35:00.000']\n",
      "\t\timage_cloud_mask_applied: [b'1']\n",
      "\t\timage_geo_parameter: [b'REFLECTIVITY_[DBZ]']\n",
      "\t\timage_product_name: [b'RAD_NL25_PCP_H1.5_FM']\n",
      "\t\timage_size: [535500]\n",
      "image8/image_data\n",
      "\t<HDF5 dataset \"image_data\": shape (765, 700), type \"|u1\">\n",
      "\t\tCLASS: [b'IMAGE']\n",
      "\t\tVERSION: [b'1.2']\n",
      "image9\n",
      "\t<HDF5 group \"/image9\" (1 members)>\n",
      "\t\timage_bytes_per_pixel: [1]\n",
      "\t\timage_datetime_valid: [b'28-NOV-2017;00:40:00.000']\n",
      "\t\timage_cloud_mask_applied: [b'1']\n",
      "\t\timage_geo_parameter: [b'REFLECTIVITY_[DBZ]']\n",
      "\t\timage_product_name: [b'RAD_NL25_PCP_H1.5_FM']\n",
      "\t\timage_size: [535500]\n",
      "image9/image_data\n",
      "\t<HDF5 dataset \"image_data\": shape (765, 700), type \"|u1\">\n",
      "\t\tCLASS: [b'IMAGE']\n",
      "\t\tVERSION: [b'1.2']\n",
      "overview\n",
      "\t<HDF5 group \"/overview\" (0 members)>\n",
      "\t\tproducts_missing: b'NA'\n",
      "\t\thdftag_version_number: b'3.6'\n",
      "\t\tnumber_satellite_groups: [0]\n",
      "\t\tnumber_radar_groups: [3]\n",
      "\t\tnumber_station_groups: [0]\n",
      "\t\tnumber_image_groups: [25]\n",
      "\t\tproduct_datetime_start: b'28-NOV-2017;00:00:00.000'\n",
      "\t\tproduct_group_name: [b'RAD_NL25_PCP_FM']\n",
      "\t\tproduct_datetime_end: [b'28-NOV-2017;02:00:00.000']\n",
      "radar1\n",
      "\t<HDF5 group \"/radar1\" (0 members)>\n",
      "\t\tradar_name: b'DeBilt'\n",
      "\t\tradar_location: [  5.17833996  52.10168076]\n",
      "\t\tradar_operational: [0]\n",
      "radar2\n",
      "\t<HDF5 group \"/radar2\" (0 members)>\n",
      "\t\tradar_name: b'DenHelder'\n",
      "\t\tradar_location: [  4.78996992  52.95333862]\n",
      "\t\tradar_operational: [1]\n",
      "radar3\n",
      "\t<HDF5 group \"/radar3\" (0 members)>\n",
      "\t\tradar_name: b'Herwijnen'\n",
      "\t\tradar_location: [  5.13810015  51.8368988 ]\n",
      "\t\tradar_operational: [1]\n",
      "visualisation1\n",
      "\t<HDF5 group \"/visualisation1\" (1 members)>\n",
      "\t\t\n",
      "visualisation1/color_palette\n",
      "\t<HDF5 dataset \"color_palette\": shape (256, 3), type \"|u1\">\n",
      "\t\tCLASS: b'PALETTE'\n",
      "\t\tPAL_COLORMODEL: b'RGB'\n",
      "\t\tPAL_TYPE: b'STANDARD8'\n",
      "\t\tPAL_VERSION: b'1.2'\n",
      "\n"
     ]
    }
   ],
   "source": [
    "print(''.join(utils.explain_hdf5_file(hfs[0])))"
   ]
  },
  {
   "cell_type": "code",
   "execution_count": null,
   "metadata": {},
   "outputs": [],
   "source": [
    "from matplotlib import animation, rc\n",
    "from IPython.display import HTML\n",
    "\n",
    "#!conda install -c conda-forge cartopy\n",
    "import cartopy.crs as ccrs\n",
    "import cartopy.feature\n",
    "\n",
    "stere_nl = ccrs.Stereographic(central_latitude=90, true_scale_latitude=60)\n",
    "stere_nl.proj4_params\n",
    "\n",
    "# '+proj=stere +lat_0=90 +lon_0=0 +lat_ts=60 +a=6378.14 +b=6356.75 +x_0=0 y_0=0'\n",
    "# 0.0, 49.36206, 0.0, 55.973602, 10.856429, 55.388973, 9.00928, 48.8953\n",
    "bbox = np.array([[  0.      ,  49.36206 ],\n",
    "                 [  0.      ,  55.973602],\n",
    "                 [ 10.856429,  55.388973],\n",
    "                 [  9.00928 ,  48.8953  ]])\n",
    "\n",
    "bbox_stere = stere_nl.transform_points(ccrs.PlateCarree(), bbox.T[0], bbox.T[1])[:,:2]\n",
    "\n",
    "proj_pc = ccrs.PlateCarree()\n",
    "\n",
    "fig = plt.figure(figsize=(24,24))\n",
    "\n",
    "ax = plt.axes(projection=stere_nl)\n",
    "\n",
    "ext = (bbox[:,0].min(), bbox[:,0].max(), bbox[:,1].min(), bbox[:,1].max())\n",
    "\n",
    "ext_stere = (0, 700000, -4415000, -3650000)\n",
    "\n",
    "ax.set_extent(ext_stere, crs=stere_nl)\n",
    "\n",
    "# We need one extra, not sure why\n",
    "lons = np.linspace(ext_stere[0], ext_stere[1], 701)\n",
    "lats = np.linspace(ext_stere[2], ext_stere[3], 766)\n",
    "\n",
    "cmesh = ax.pcolormesh(lons, lats, img_data[0])\n",
    "\n",
    "def animate(i):\n",
    "#     cmesh = ax.pcolormesh(lons, lats, arr)\n",
    "    cmesh.set_array(img_data[i].ravel())\n",
    "    return cmesh.findobj()\n",
    "\n",
    "# Add high-res coastline\n",
    "ax.coastlines('10m', color='white')\n",
    "# Add high-res border\n",
    "ax.add_feature(cartopy.feature.NaturalEarthFeature('cultural', 'admin_0_boundary_lines_land', '10m'),\n",
    "               edgecolor='white', facecolor='none')\n",
    "ax.gridlines(crs=stere_nl)\n",
    "# plt.show()\n",
    "\n",
    "\n",
    "\n",
    "anim = animation.FuncAnimation(fig, animate,\n",
    "                               frames=len(img_data), interval=200, blit=True)\n",
    "\n",
    "# Nice slice would be radar[250:550,200:500]\n",
    "\n",
    "HTML(anim.to_html5_video())"
   ]
  },
  {
   "cell_type": "markdown",
   "metadata": {},
   "source": [
    "The commonly used precipitation metrics are:\n",
    " - Rainfall-MSE *average squared error between the predicted rainfall and the ground truth (needs conversion of pixel values -> radar intensity [dB] -> rainfall (Z-R relationship)*\n",
    "\n",
    "For the following metrics the prediction and ground truth is converted to a 0/1 matrix using a treshold of $0.5mm/h$.\n",
    " - Critical Success Index (CSI) $\\frac{hits}{hits+misses+falsealarms}$\n",
    " - False Alarm Rate (FAR) $\\frac{falsealarms}{hits+falsealarms}$\n",
    " - Probability Of Detection (POD) $\\frac{hits}{hits+misses}$\n"
   ]
  },
  {
   "cell_type": "code",
   "execution_count": 4,
   "metadata": {},
   "outputs": [],
   "source": [
    "def metrics(t, p):\n",
    "    \"\"\"\n",
    "    Calculates the Critical Success Index of tresholded 0/1 matrix\n",
    "    :param t: np.array ground truth\n",
    "    :param p: prediction\n",
    "    :returns: Tuple of (CSI, FAR, POD, correlation) normalized scores\n",
    "    \"\"\"\n",
    "    hits = ((t==1)&(p==1)).sum()\n",
    "    misses = ((t==1)&(p==0)).sum()\n",
    "    falsealarms = ((t==0)&(p==1))\n",
    "    \n",
    "    # Normalize scores by dividing by total # of pixels    \n",
    "    csi = hits / (hits + misses + falsealarms) / t.size()\n",
    "    far = falsealarms / (hits + falsealarms) / t.size()\n",
    "    pod = hits / (hits + misses) / t.size()\n",
    "    \n",
    "    # Correlation\n",
    "    cor = (t*p).sum() / (np.sqrt((p**2).sum() * (t**2).sum()) + 10e-9)\n",
    "    \n",
    "    return csi, far, pod, cor"
   ]
  },
  {
   "cell_type": "code",
   "execution_count": 5,
   "metadata": {},
   "outputs": [
    {
     "ename": "NameError",
     "evalue": "name 'predh5s' is not defined",
     "output_type": "error",
     "traceback": [
      "\u001b[0;31m---------------------------------------------------------------------------\u001b[0m",
      "\u001b[0;31mNameError\u001b[0m                                 Traceback (most recent call last)",
      "\u001b[0;32m<ipython-input-5-59908bf3b4a0>\u001b[0m in \u001b[0;36m<module>\u001b[0;34m()\u001b[0m\n\u001b[0;32m----> 1\u001b[0;31m \u001b[0mpredh5s\u001b[0m\u001b[0;34m\u001b[0m\u001b[0m\n\u001b[0m",
      "\u001b[0;31mNameError\u001b[0m: name 'predh5s' is not defined"
     ]
    }
   ],
   "source": [
    "predh5s"
   ]
  }
 ],
 "metadata": {
  "kernelspec": {
   "display_name": "Python [conda env:main]",
   "language": "python",
   "name": "conda-env-main-py"
  },
  "language_info": {
   "codemirror_mode": {
    "name": "ipython",
    "version": 3
   },
   "file_extension": ".py",
   "mimetype": "text/x-python",
   "name": "python",
   "nbconvert_exporter": "python",
   "pygments_lexer": "ipython3",
   "version": "3.6.3"
  }
 },
 "nbformat": 4,
 "nbformat_minor": 2
}
